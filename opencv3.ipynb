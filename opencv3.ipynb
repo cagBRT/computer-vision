{
  "nbformat": 4,
  "nbformat_minor": 0,
  "metadata": {
    "colab": {
      "name": "opencv3.ipynb",
      "provenance": [],
      "collapsed_sections": [],
      "authorship_tag": "ABX9TyMVhayNLCKmLZxS8fjkkzH/",
      "include_colab_link": true
    },
    "kernelspec": {
      "name": "python3",
      "display_name": "Python 3"
    }
  },
  "cells": [
    {
      "cell_type": "markdown",
      "metadata": {
        "id": "view-in-github",
        "colab_type": "text"
      },
      "source": [
        "<a href=\"https://colab.research.google.com/github/cagBRT/computer-vision/blob/master/opencv3.ipynb\" target=\"_parent\"><img src=\"https://colab.research.google.com/assets/colab-badge.svg\" alt=\"Open In Colab\"/></a>"
      ]
    },
    {
      "cell_type": "markdown",
      "metadata": {
        "id": "nIOBLIjRNqfj",
        "colab_type": "text"
      },
      "source": [
        "shapes on images"
      ]
    },
    {
      "cell_type": "code",
      "metadata": {
        "id": "wxH2ro2BNoHt",
        "colab_type": "code",
        "colab": {}
      },
      "source": [
        "from __future__ import print_function\n",
        "import cv2\n",
        "from google.colab.patches import cv2_imshow\n",
        "import numpy as np\n"
      ],
      "execution_count": null,
      "outputs": []
    },
    {
      "cell_type": "code",
      "metadata": {
        "id": "rPUy3uYoN--H",
        "colab_type": "code",
        "colab": {}
      },
      "source": [
        "canvas = np.zeros((300, 300, 3), dtype = \"uint8\")"
      ],
      "execution_count": null,
      "outputs": []
    },
    {
      "cell_type": "code",
      "metadata": {
        "id": "iHm98N9eOHav",
        "colab_type": "code",
        "colab": {
          "base_uri": "https://localhost:8080/",
          "height": 316
        },
        "outputId": "00624c08-3ec8-4faf-9f6c-c6e05d2e08f1"
      },
      "source": [
        "green = (0, 255, 0)\n",
        "cv2.line(canvas, (0, 0), (300, 300), green)\n",
        "cv2_imshow(canvas)"
      ],
      "execution_count": null,
      "outputs": [
        {
          "output_type": "display_data",
          "data": {
            "image/png": "[encoded data removed]",
            "text/plain": [
              "<PIL.Image.Image image mode=RGB size=300x300 at 0x7FE22A2F6FD0>"
            ]
          },
          "metadata": {
            "tags": []
          }
        }
      ]
    },
    {
      "cell_type": "code",
      "metadata": {
        "id": "wwnnoiTSOPxj",
        "colab_type": "code",
        "colab": {
          "base_uri": "https://localhost:8080/",
          "height": 316
        },
        "outputId": "a7100afb-e9a7-411d-b4fb-c499cb3b7410"
      },
      "source": [
        "red = (0, 0, 255)\n",
        "cv2.line(canvas, (300, 0), (0, 300), red, 3)\n",
        "cv2_imshow(canvas)"
      ],
      "execution_count": null,
      "outputs": [
        {
          "output_type": "display_data",
          "data": {
            "image/png": "[encoded data removed]",
            "text/plain": [
              "<PIL.Image.Image image mode=RGB size=300x300 at 0x7FE22A272C88>"
            ]
          },
          "metadata": {
            "tags": []
          }
        }
      ]
    },
    {
      "cell_type": "code",
      "metadata": {
        "id": "LM8mkrC1Oeq6",
        "colab_type": "code",
        "colab": {
          "base_uri": "https://localhost:8080/",
          "height": 316
        },
        "outputId": "f2169b1d-359d-4ac7-a82d-36ef3570645a"
      },
      "source": [
        "cv2.rectangle(canvas, (10, 10), (60, 60), green)\n",
        "cv2_imshow(canvas)"
      ],
      "execution_count": null,
      "outputs": [
        {
          "output_type": "display_data",
          "data": {
            "image/png": "[encoded data removed]",
            "text/plain": [
              "<PIL.Image.Image image mode=RGB size=300x300 at 0x7FE22A2F6E48>"
            ]
          },
          "metadata": {
            "tags": []
          }
        }
      ]
    },
    {
      "cell_type": "code",
      "metadata": {
        "id": "D-jQ4BW3Okjv",
        "colab_type": "code",
        "colab": {
          "base_uri": "https://localhost:8080/",
          "height": 316
        },
        "outputId": "35b1f93a-4775-46cb-bbf7-349f3e6250db"
      },
      "source": [
        "cv2.rectangle(canvas, (50, 200), (200, 225), red, 5)\n",
        "cv2_imshow(canvas)"
      ],
      "execution_count": null,
      "outputs": [
        {
          "output_type": "display_data",
          "data": {
            "image/png": "[encoded data removed]",
            "text/plain": [
              "<PIL.Image.Image image mode=RGB size=300x300 at 0x7FE22A27AB70>"
            ]
          },
          "metadata": {
            "tags": []
          }
        }
      ]
    },
    {
      "cell_type": "code",
      "metadata": {
        "id": "eaSwO3K3OqoX",
        "colab_type": "code",
        "colab": {
          "base_uri": "https://localhost:8080/",
          "height": 316
        },
        "outputId": "0cdf80c3-4e5f-4ff9-ea62-b163f4a02ca5"
      },
      "source": [
        "blue = (255, 0, 0)\n",
        "cv2.rectangle(canvas, (200, 50), (225, 125), blue, -1)\n",
        "cv2_imshow(canvas)"
      ],
      "execution_count": null,
      "outputs": [
        {
          "output_type": "display_data",
          "data": {
            "image/png": "[encoded data removed]",
            "text/plain": [
              "<PIL.Image.Image image mode=RGB size=300x300 at 0x7FE22A27AD68>"
            ]
          },
          "metadata": {
            "tags": []
          }
        }
      ]
    },
    {
      "cell_type": "code",
      "metadata": {
        "id": "JYOh68r5Oz-E",
        "colab_type": "code",
        "colab": {
          "base_uri": "https://localhost:8080/",
          "height": 316
        },
        "outputId": "5c7b74e8-8406-486d-909f-70303203664c"
      },
      "source": [
        "canvas = np.zeros((300, 300, 3), dtype = \"uint8\")\n",
        "(centerX, centerY) = (canvas.shape[1] // 2, canvas.shape[0] // 2)\n",
        "white = (255, 255, 255)\n",
        "\n",
        "for r in range(0, 175, 25):\n",
        " cv2.circle(canvas, (centerX, centerY), r, white)\n",
        "\n",
        "cv2_imshow(canvas)"
      ],
      "execution_count": null,
      "outputs": [
        {
          "output_type": "display_data",
          "data": {
            "image/png": "[encoded data removed]",
            "text/plain": [
              "<PIL.Image.Image image mode=RGB size=300x300 at 0x7FE22A2935F8>"
            ]
          },
          "metadata": {
            "tags": []
          }
        }
      ]
    },
    {
      "cell_type": "code",
      "metadata": {
        "id": "zwKAO8kiO_Bd",
        "colab_type": "code",
        "colab": {
          "base_uri": "https://localhost:8080/",
          "height": 316
        },
        "outputId": "b836dfaf-188e-45d5-b601-24fecf544b6b"
      },
      "source": [
        "for i in range(0, 25):\n",
        "  radius = np.random.randint(5, high = 200)\n",
        "  color = np.random.randint(0, high = 256, size = (3,)).tolist  ()\n",
        "  pt = np.random.randint(0, high = 300, size = (2,))\n",
        "cv2.circle(canvas, tuple(pt), radius, color, -1) \n",
        "cv2_imshow( canvas) "
      ],
      "execution_count": null,
      "outputs": [
        {
          "output_type": "display_data",
          "data": {
            "image/png": "[encoded data removed]",
            "text/plain": [
              "<PIL.Image.Image image mode=RGB size=300x300 at 0x7FE22A27AF60>"
            ]
          },
          "metadata": {
            "tags": []
          }
        }
      ]
    }
  ]
}