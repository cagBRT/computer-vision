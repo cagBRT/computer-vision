{
  "nbformat": 4,
  "nbformat_minor": 0,
  "metadata": {
    "colab": {
      "name": "opencv install.ipynb",
      "private_outputs": true,
      "provenance": [],
      "authorship_tag": "ABX9TyM7q/rPPLuL/l5dxRzOxfVP",
      "include_colab_link": true
    },
    "kernelspec": {
      "name": "python3",
      "display_name": "Python 3"
    },
    "language_info": {
      "name": "python"
    }
  },
  "cells": [
    {
      "cell_type": "markdown",
      "metadata": {
        "id": "view-in-github",
        "colab_type": "text"
      },
      "source": [
        "<a href=\"https://colab.research.google.com/github/cagBRT/computer-vision/blob/master/opencv_install.ipynb\" target=\"_parent\"><img src=\"https://colab.research.google.com/assets/colab-badge.svg\" alt=\"Open In Colab\"/></a>"
      ]
    },
    {
      "cell_type": "markdown",
      "metadata": {
        "id": "JmmdrBwLoarv"
      },
      "source": [
        "upload boy.jpg from dowload folder"
      ]
    },
    {
      "cell_type": "code",
      "metadata": {
        "id": "xZCKmCt2nWLw"
      },
      "source": [
        "pip install opencv-contrib-python==4.4.0.46"
      ],
      "execution_count": null,
      "outputs": []
    },
    {
      "cell_type": "code",
      "metadata": {
        "id": "JfIjTLcTna58"
      },
      "source": [
        "# import cv2 and print the version (run following commands on ipython)\n",
        "import cv2\n",
        "print(cv2.__version__)\n"
      ],
      "execution_count": null,
      "outputs": []
    },
    {
      "cell_type": "code",
      "metadata": {
        "id": "74cQ-JlGoB30"
      },
      "source": [
        "# Read image in GrayScale mode\n",
        "image = cv2.imread(\"boy.jpg\", 0)\n",
        "\n",
        "# Write the grayscale image\n",
        "cv2.imwrite(\"boyGray.jpg\",image)"
      ],
      "execution_count": null,
      "outputs": []
    }
  ]
}