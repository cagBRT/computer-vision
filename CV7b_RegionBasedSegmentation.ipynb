{
  "nbformat": 4,
  "nbformat_minor": 0,
  "metadata": {
    "colab": {
      "name": "CV7b RegionBasedSegmentation.ipynb",
      "provenance": [],
      "private_outputs": true,
      "authorship_tag": "ABX9TyMMIm8SP8b/pTgblmyXucDt",
      "include_colab_link": true
    },
    "kernelspec": {
      "name": "python3",
      "display_name": "Python 3"
    },
    "accelerator": "GPU"
  },
  "cells": [
    {
      "cell_type": "markdown",
      "metadata": {
        "id": "view-in-github",
        "colab_type": "text"
      },
      "source": [
        "<a href=\"https://colab.research.google.com/github/cagBRT/computer-vision/blob/master/CV7b_RegionBasedSegmentation.ipynb\" target=\"_parent\"><img src=\"https://colab.research.google.com/assets/colab-badge.svg\" alt=\"Open In Colab\"/></a>"
      ]
    },
    {
      "cell_type": "code",
      "metadata": {
        "id": "d1eK2bA4Ninq"
      },
      "source": [
        "!git clone -l -s https://github.com/cagBRT/computer-vision.git cloned-repo\n",
        "%cd cloned-repo\n",
        "!ls"
      ],
      "execution_count": null,
      "outputs": []
    },
    {
      "cell_type": "markdown",
      "metadata": {
        "id": "viDyYnlsFhfA"
      },
      "source": [
        "# **Region-based Segmentation**\n",
        "Using the pixel values of different objects is a way to do image segmentation. <br>\n",
        "Each region needs to be different than its neighbor, if there is a sharp contast between the two. <br>\n"
      ]
    },
    {
      "cell_type": "markdown",
      "metadata": {
        "id": "ZNkGzklfGDRi"
      },
      "source": [
        "**Threshold segmentation**<br>\n",
        "If there is enough contrast between regions, a threshold can be set. If a pixel is above the threshold, it belongs to one region.<br> \n",
        "If the pixel is below the threshold, it belings to the other region<br>"
      ]
    },
    {
      "cell_type": "markdown",
      "metadata": {
        "id": "UZ3YRH-MGeAL"
      },
      "source": [
        "**Import libraries**"
      ]
    },
    {
      "cell_type": "code",
      "metadata": {
        "id": "CotKdXhJDwq4"
      },
      "source": [
        "from skimage.color import rgb2gray\n",
        "import numpy as np\n",
        "import cv2\n",
        "import matplotlib.pyplot as plt\n",
        "%matplotlib inline\n",
        "from scipy import ndimage"
      ],
      "execution_count": null,
      "outputs": []
    },
    {
      "cell_type": "markdown",
      "metadata": {
        "id": "ZsTKikgAGhWj"
      },
      "source": [
        "**Begin with an image**<br>\n",
        "Plot the image"
      ]
    },
    {
      "cell_type": "code",
      "metadata": {
        "id": "2K0AU-6qEYe9"
      },
      "source": [
        "image = plt.imread('/content/cloned-repo/images/1.jpeg')\n",
        "image.shape\n",
        "plt.imshow(image)"
      ],
      "execution_count": null,
      "outputs": []
    },
    {
      "cell_type": "markdown",
      "metadata": {
        "id": "It4JVX6YGqFd"
      },
      "source": [
        "**Convert the image to gray scale**<br>\n"
      ]
    },
    {
      "cell_type": "code",
      "metadata": {
        "id": "EL8IvfJjEtW6"
      },
      "source": [
        "gray = rgb2gray(image)\n",
        "plt.imshow(gray, cmap='gray')"
      ],
      "execution_count": null,
      "outputs": []
    },
    {
      "cell_type": "markdown",
      "metadata": {
        "id": "yZiScgFIHDbr"
      },
      "source": [
        "**Apply the threshold**\n",
        "\n",
        "1. find the shape of the image"
      ]
    },
    {
      "cell_type": "code",
      "metadata": {
        "id": "6I2vVNtvEv-D"
      },
      "source": [
        "gray.shape"
      ],
      "execution_count": null,
      "outputs": []
    },
    {
      "cell_type": "markdown",
      "metadata": {
        "id": "ujgRpy6_HLgu"
      },
      "source": [
        "2. The height and width of the image is 192 and 263. <br>\n",
        "3. Take the mean of the pixel values and use that as a threshold. <br>\n",
        "\n",
        "*   If the pixel value is more than our threshold, we can say that it belongs to an object\n",
        "*   If the pixel value is less than the threshold, it will be treated as the background. "
      ]
    },
    {
      "cell_type": "markdown",
      "metadata": {
        "id": "gDHoOS9cIBbI"
      },
      "source": [
        "The dark region is the background<br>\n",
        "The light region is the foreground"
      ]
    },
    {
      "cell_type": "code",
      "metadata": {
        "id": "j23IE00ZEyZs"
      },
      "source": [
        "gray_r = gray.reshape(gray.shape[0]*gray.shape[1])\n",
        "for i in range(gray_r.shape[0]):\n",
        "    if gray_r[i] > gray_r.mean():\n",
        "        gray_r[i] = 1\n",
        "    else:\n",
        "        gray_r[i] = 0\n",
        "gray = gray_r.reshape(gray.shape[0],gray.shape[1])\n",
        "plt.imshow(gray, cmap='gray')"
      ],
      "execution_count": null,
      "outputs": []
    },
    {
      "cell_type": "markdown",
      "metadata": {
        "id": "oJo-vVc5IHbw"
      },
      "source": [
        "**Create multiple regions**<br>\n",
        "Different thresholds will lead to different regions.<br>\n",
        "\n",
        "There are four segments shown in the image below. <br>\n",
        "**The advantages of this method are**: <br>\n",
        "\n",
        "\n",
        "*   Calculations are simpler\n",
        "*   Fast operation speed\n",
        "*.  When the neighboring regions have high contrast, the method works well\n",
        "\n",
        "The disadvantages of this method are: <br>\n",
        "When the grayscale difference between neighboring regions is small, it can be harder to be accurate. \n"
      ]
    },
    {
      "cell_type": "code",
      "metadata": {
        "id": "t1SxgA1TE2kg"
      },
      "source": [
        "gray = rgb2gray(image)\n",
        "gray_r = gray.reshape(gray.shape[0]*gray.shape[1])\n",
        "for i in range(gray_r.shape[0]):\n",
        "    if gray_r[i] > gray_r.mean():\n",
        "        gray_r[i] = 3\n",
        "    elif gray_r[i] > 0.5:\n",
        "        gray_r[i] = 2\n",
        "    elif gray_r[i] > 0.25:\n",
        "        gray_r[i] = 1\n",
        "    else:\n",
        "        gray_r[i] = 0\n",
        "gray = gray_r.reshape(gray.shape[0],gray.shape[1])\n",
        "plt.imshow(gray, cmap='gray')"
      ],
      "execution_count": null,
      "outputs": []
    },
    {
      "cell_type": "markdown",
      "metadata": {
        "id": "qS3cp4H6JMOo"
      },
      "source": [
        "#**Assignment**<br>\n",
        "Use the region-based segmentation method on the following images. <br>\n",
        ">/content/cloned-repo/images/City-trip-and-fall.jpg<br>\n",
        "/content/cloned-repo/images/cabinLandscape.jpeg<br>\n",
        "/content/cloned-repo/images/sailboat.jpg"
      ]
    }
  ]
}