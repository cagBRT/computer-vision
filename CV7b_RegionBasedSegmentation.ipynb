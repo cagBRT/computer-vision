{
  "nbformat": 4,
  "nbformat_minor": 0,
  "metadata": {
    "colab": {
      "name": "CV7b RegionBasedSegmentation.ipynb",
      "provenance": [],
      "private_outputs": true,
      "authorship_tag": "ABX9TyOXYqj/4E7o6aOp1Ee0/7n4",
      "include_colab_link": true
    },
    "kernelspec": {
      "name": "python3",
      "display_name": "Python 3"
    },
    "accelerator": "GPU"
  },
  "cells": [
    {
      "cell_type": "markdown",
      "metadata": {
        "id": "view-in-github",
        "colab_type": "text"
      },
      "source": [
        "<a href=\"https://colab.research.google.com/github/cagBRT/computer-vision/blob/master/CV7b_RegionBasedSegmentation.ipynb\" target=\"_parent\"><img src=\"https://colab.research.google.com/assets/colab-badge.svg\" alt=\"Open In Colab\"/></a>"
      ]
    },
    {
      "cell_type": "code",
      "metadata": {
        "id": "d1eK2bA4Ninq"
      },
      "source": [
        "!git clone -l -s https://github.com/cagBRT/computer-vision.git cloned-repo\n",
        "%cd cloned-repo"
      ],
      "execution_count": null,
      "outputs": []
    },
    {
      "cell_type": "markdown",
      "metadata": {
        "id": "viDyYnlsFhfA"
      },
      "source": [
        "# **Region-based Segmentation**\n",
        "Using the pixel values of different objects is a way to do image segmentation. <br> This technique determines a region directly.<br>\n",
        "\n",
        "Region-based segmentation is a pixel based method.\n"
      ]
    },
    {
      "cell_type": "markdown",
      "metadata": {
        "id": "ZNkGzklfGDRi"
      },
      "source": [
        "**Threshold segmentation**<br>\n",
        "If there is enough contrast between regions, a threshold can be set. If a pixel is above the threshold, it belongs to one region.<br>\n",
        "If the pixel is below the threshold, it belings to the other region<br>"
      ]
    },
    {
      "cell_type": "markdown",
      "metadata": {
        "id": "UZ3YRH-MGeAL"
      },
      "source": [
        "**Import libraries**"
      ]
    },
    {
      "cell_type": "code",
      "metadata": {
        "id": "CotKdXhJDwq4"
      },
      "source": [
        "from skimage.color import rgb2gray\n",
        "import numpy as np\n",
        "import cv2\n",
        "from google.colab.patches import cv2_imshow\n",
        "import matplotlib.pyplot as plt\n",
        "%matplotlib inline\n",
        "from scipy import ndimage"
      ],
      "execution_count": null,
      "outputs": []
    },
    {
      "cell_type": "markdown",
      "metadata": {
        "id": "ZsTKikgAGhWj"
      },
      "source": [
        "**Begin with an image**<br>\n",
        "Plot the image"
      ]
    },
    {
      "cell_type": "code",
      "metadata": {
        "id": "2K0AU-6qEYe9"
      },
      "source": [
        "image = plt.imread('/content/cloned-repo/images/sailboats.jpg')\n",
        "image.shape\n",
        "plt.imshow(image)"
      ],
      "execution_count": null,
      "outputs": []
    },
    {
      "cell_type": "markdown",
      "metadata": {
        "id": "It4JVX6YGqFd"
      },
      "source": [
        "**Convert the image to gray scale**<br>\n"
      ]
    },
    {
      "cell_type": "code",
      "metadata": {
        "id": "EL8IvfJjEtW6"
      },
      "source": [
        "gray = rgb2gray(image)\n",
        "plt.imshow(gray, cmap='gray')"
      ],
      "execution_count": null,
      "outputs": []
    },
    {
      "cell_type": "markdown",
      "metadata": {
        "id": "q9WKeGlVFvO0"
      },
      "source": [
        "**Thresholding**<br>\n",
        "Once the image is in gray scale, we need to apply a threshold to it. <br>\n",
        "The threshold will decide which pixels belong to which shape. Depending upon their values pixels will be classified as being in one object or another. <br>\n",
        "<br>\n",
        "Correct thresholding leads to better segmentation. <br>\n",
        "\n"
      ]
    },
    {
      "cell_type": "markdown",
      "metadata": {
        "id": "Z9CMJLfKJUQi"
      },
      "source": [
        "**Plot the histogram of the image**"
      ]
    },
    {
      "cell_type": "markdown",
      "source": [
        "The numpy.ravel() functions returns contiguous flattened array(1D array with all the input-array elements and with the same type as it)"
      ],
      "metadata": {
        "id": "d5p_ZonghecS"
      }
    },
    {
      "cell_type": "code",
      "metadata": {
        "id": "DfpKcbc2I2XP"
      },
      "source": [
        "img = cv2.imread('images/1.jpeg',0)\n",
        "plt.hist(img.ravel(),256,[0,256])\n",
        "plt.show()"
      ],
      "execution_count": null,
      "outputs": []
    },
    {
      "cell_type": "markdown",
      "metadata": {
        "id": "910mbZt6JRyI"
      },
      "source": [
        "Selecting a good threshold is important for good segmentation. The best thresholds exist when the histogram peaks are separated by deep valleys, as shown in the image below.  "
      ]
    },
    {
      "cell_type": "code",
      "metadata": {
        "id": "PXz8ch2WHUiO"
      },
      "source": [
        "from IPython.display import Image\n",
        "Image(\"images/thresholding.png\", width=640)"
      ],
      "execution_count": null,
      "outputs": []
    },
    {
      "cell_type": "markdown",
      "metadata": {
        "id": "yZiScgFIHDbr"
      },
      "source": [
        "**Apply a threshold**\n",
        "\n",
        "1. find the shape of the image"
      ]
    },
    {
      "cell_type": "code",
      "metadata": {
        "id": "6I2vVNtvEv-D"
      },
      "source": [
        "gray.shape"
      ],
      "execution_count": null,
      "outputs": []
    },
    {
      "cell_type": "markdown",
      "metadata": {
        "id": "ujgRpy6_HLgu"
      },
      "source": [
        "2. The height and width of the image is 192 and 263, which means there are 50,496 pixels. <br>\n",
        "3. Take the mean of the pixel values and use that as a threshold. <br>\n",
        "\n",
        "*   If the pixel value is more than our threshold, we can say that it belongs to an object\n",
        "*   If the pixel value is less than the threshold, it will be treated as the background."
      ]
    },
    {
      "cell_type": "markdown",
      "metadata": {
        "id": "gDHoOS9cIBbI"
      },
      "source": [
        "The dark region is the background<br>\n",
        "The light region is the foreground"
      ]
    },
    {
      "cell_type": "code",
      "metadata": {
        "id": "j23IE00ZEyZs"
      },
      "source": [
        "gray_r = gray.reshape(gray.shape[0]*gray.shape[1])\n",
        "for i in range(gray_r.shape[0]):\n",
        "    if gray_r[i] > gray_r.mean():\n",
        "        gray_r[i] = 1\n",
        "    else:\n",
        "        gray_r[i] = 0\n",
        "gray = gray_r.reshape(gray.shape[0],gray.shape[1])\n",
        "plt.imshow(gray, cmap='gray')\n",
        "plt.show()"
      ],
      "execution_count": null,
      "outputs": []
    },
    {
      "cell_type": "markdown",
      "metadata": {
        "id": "oJo-vVc5IHbw"
      },
      "source": [
        "**Create multiple regions**<br>\n",
        "Different thresholds will lead to different regions.<br>\n",
        "\n",
        "There are four segments shown in the image below. <br>\n",
        "**The advantages of this method are**: <br>\n",
        "\n",
        "\n",
        "*   Calculations are simpler\n",
        "*   Fast operation speed\n",
        "*.  When the neighboring regions have high contrast, the method works well\n",
        "\n",
        "The disadvantages of this method are: <br>\n",
        "When the grayscale difference between neighboring regions is small, it can be harder to be accurate.\n"
      ]
    },
    {
      "cell_type": "markdown",
      "metadata": {
        "id": "yCSy7aAGJoK7"
      },
      "source": [
        "Create regions of segmentation using different thresholds"
      ]
    },
    {
      "cell_type": "code",
      "metadata": {
        "id": "btdT0bESJ3yA"
      },
      "source": [
        "gray = rgb2gray(image)\n",
        "gray_r = gray.reshape(gray.shape[0]*gray.shape[1])\n",
        "print(gray_r.mean())\n",
        "print(gray_r.shape[0])"
      ],
      "execution_count": null,
      "outputs": []
    },
    {
      "cell_type": "markdown",
      "metadata": {
        "id": "7_MBLpDaVBoY"
      },
      "source": [
        "Assign each pixel to one of four segmentations"
      ]
    },
    {
      "cell_type": "code",
      "metadata": {
        "id": "6iHWfSkdUzw2"
      },
      "source": [
        "for i in range(gray_r.shape[0]):\n",
        "    if gray_r[i] > gray_r.mean():\n",
        "        gray_r[i] = 3\n",
        "    elif gray_r[i] > 0.5:\n",
        "        gray_r[i] = 2\n",
        "    elif gray_r[i] > 0.25:\n",
        "        gray_r[i] = 1\n",
        "    else:\n",
        "        gray_r[i] = 0"
      ],
      "execution_count": null,
      "outputs": []
    },
    {
      "cell_type": "code",
      "metadata": {
        "id": "t1SxgA1TE2kg"
      },
      "source": [
        "gray = gray_r.reshape(gray.shape[0],gray.shape[1])\n",
        "plt.imshow(gray, cmap='gray')\n",
        "plt.colorbar()\n",
        "plt.show()"
      ],
      "execution_count": null,
      "outputs": []
    },
    {
      "cell_type": "markdown",
      "metadata": {
        "id": "qS3cp4H6JMOo"
      },
      "source": [
        "#**Assignment**<br>\n",
        "Use the region-based segmentation method on one of the following images. <br>\n",
        ">/content/cloned-repo/images/City-trip-and-fall.jpg<br>\n",
        "/content/cloned-repo/images/cabinLandscape.jpeg<br>\n",
        "/content/cloned-repo/images/sailboats.jpg"
      ]
    }
  ]
}