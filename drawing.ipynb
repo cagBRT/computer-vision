{
  "nbformat": 4,
  "nbformat_minor": 0,
  "metadata": {
    "colab": {
      "name": "drawing.ipynb",
      "provenance": [],
      "authorship_tag": "ABX9TyNhV/vaEmdTWaG+Hs21XWBs",
      "include_colab_link": true
    },
    "kernelspec": {
      "name": "python3",
      "display_name": "Python 3"
    }
  },
  "cells": [
    {
      "cell_type": "markdown",
      "metadata": {
        "id": "view-in-github",
        "colab_type": "text"
      },
      "source": [
        "<a href=\"https://colab.research.google.com/github/cagBRT/computer-vision/blob/master/drawing.ipynb\" target=\"_parent\"><img src=\"https://colab.research.google.com/assets/colab-badge.svg\" alt=\"Open In Colab\"/></a>"
      ]
    },
    {
      "cell_type": "code",
      "metadata": {
        "id": "4RgxEURldShH",
        "colab_type": "code",
        "colab": {
          "base_uri": "https://localhost:8080/",
          "height": 317
        },
        "outputId": "aa216bcd-0737-4777-920f-8cb18daa38c7"
      },
      "source": [
        "# import the necessary packages\n",
        "import numpy as np\n",
        "import cv2\n",
        "from google.colab.patches import cv2_imshow\n",
        "\n",
        "# initialize our canvas as a 300x300 with 3 channels,\n",
        "# Red, Green, and Blue, with a black background\n",
        "canvas = np.zeros((300, 300, 3), dtype = \"uint8\")\n",
        "\n",
        "# loop over the image in 10 pixel blocks\n",
        "for (row, y) in enumerate(range(0, 300, 10)):\n",
        "\tfor (col, x) in enumerate(range(0, 300, 10)):\n",
        "\t\t# initialize the color as red\n",
        "\t\tcolor = (0, 0, 255)\n",
        "\n",
        "\t\t# check to see if BOTH the row and column are\n",
        "\t\t# even or odd, and if so, update the background\n",
        "\t\t# color\n",
        "\t\tif row % 2 == col % 2:\n",
        "\t\t\tcolor = (0, 0, 0)\n",
        "\n",
        "\t\t# draw a 10x10 rectangle\n",
        "\t\tcv2.rectangle(canvas, (x, y), (x + 10, y + 10),\n",
        "\t\t\tcolor, -1)\n",
        "\n",
        "# draw a green circle at the center of the image\n",
        "cv2.circle(canvas, (150, 150), 50, (0, 255, 0), -1)\n",
        "\n",
        "# show the output image\n",
        "cv2_imshow( canvas)"
      ],
      "execution_count": 2,
      "outputs": [
        {
          "output_type": "display_data",
          "data": {
            "image/png": "[encoded data removed]",
            "text/plain": [
              "<PIL.Image.Image image mode=RGB size=300x300 at 0x7F5B1E8396D8>"
            ]
          },
          "metadata": {
            "tags": []
          }
        }
      ]
    }
  ]
}