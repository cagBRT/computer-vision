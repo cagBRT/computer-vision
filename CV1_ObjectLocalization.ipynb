{
  "nbformat": 4,
  "nbformat_minor": 0,
  "metadata": {
    "colab": {
      "name": "CV1: ObjectLocalization.ipynb",
      "provenance": [],
      "private_outputs": true,
      "collapsed_sections": [],
      "authorship_tag": "ABX9TyOB7cDCxn83J92cL54X9D5K",
      "include_colab_link": true
    },
    "kernelspec": {
      "name": "python3",
      "display_name": "Python 3"
    },
    "accelerator": "GPU"
  },
  "cells": [
    {
      "cell_type": "markdown",
      "metadata": {
        "id": "view-in-github",
        "colab_type": "text"
      },
      "source": [
        "<a href=\"https://colab.research.google.com/github/cagBRT/computer-vision/blob/master/CV1_ObjectLocalization.ipynb\" target=\"_parent\"><img src=\"https://colab.research.google.com/assets/colab-badge.svg\" alt=\"Open In Colab\"/></a>"
      ]
    },
    {
      "cell_type": "code",
      "metadata": {
        "id": "DqWR9zgfV3ry"
      },
      "source": [
        "!git clone -l -s https://github.com/cagBRT/computer-vision.git cloned-repo\n",
        "%cd cloned-repo"
      ],
      "execution_count": null,
      "outputs": []
    },
    {
      "cell_type": "code",
      "metadata": {
        "id": "qCMQuiqxKvkU"
      },
      "source": [
        "from IPython.display import Image\n",
        "def page(num):\n",
        "    return Image(\"/content/cloned-repo/pages/objectLocalization\"+str(num)+ \".png\" , width=640)"
      ],
      "execution_count": null,
      "outputs": []
    },
    {
      "cell_type": "code",
      "metadata": {
        "id": "_aI3SPndLCw-"
      },
      "source": [
        "page(\"\")"
      ],
      "execution_count": null,
      "outputs": []
    },
    {
      "cell_type": "code",
      "metadata": {
        "id": "dWuOwV9WLbqe"
      },
      "source": [
        "page(1)"
      ],
      "execution_count": null,
      "outputs": []
    },
    {
      "cell_type": "markdown",
      "metadata": {
        "id": "FpRGVbzeN_KM"
      },
      "source": [
        "**Import the libraries**"
      ]
    },
    {
      "cell_type": "code",
      "metadata": {
        "id": "yNYcx5eTL0ud"
      },
      "source": [
        " %tensorflow_version 2.x\n",
        " import tensorflow as tf\n",
        "from matplotlib import pyplot as plt\n",
        "from tensorflow.keras.layers import Flatten, Dense\n",
        "from tensorflow.keras.optimizers import Adam\n",
        "from tensorflow.keras.models import Model\n",
        "import numpy as np\n",
        "from tensorflow.keras.utils import  plot_model\n",
        "import matplotlib.pyplot as plt\n",
        "\n",
        "BATCH_SIZE = 64\n",
        "EPOCH_SIZE = 64"
      ],
      "execution_count": null,
      "outputs": []
    },
    {
      "cell_type": "markdown",
      "metadata": {
        "id": "BcrvklOtOE7F"
      },
      "source": [
        "**Load the pretrained VGG16 model**<br>\n",
        "You may recall this from the introduction notebook \"Introduction to Deep Neural Networks with Keras\". This same architecture was used for image classification of hand drawn digits. "
      ]
    },
    {
      "cell_type": "code",
      "metadata": {
        "id": "v-O1xdjLOQFE"
      },
      "source": [
        "page(2)"
      ],
      "execution_count": null,
      "outputs": []
    },
    {
      "cell_type": "markdown",
      "metadata": {
        "id": "NdjLZHbngzP3"
      },
      "source": [
        "**Feature extraction**<br>\n",
        "Feature extraction is the process of showing an ML model small pieces of an image and training it to detect the whole. <br>\n",
        "For example: <BR>\n",
        "Extract nine features from an image of a motorcycle and ask the model to determine what object is in the image. "
      ]
    },
    {
      "cell_type": "code",
      "metadata": {
        "id": "PQHmgy_PgINy"
      },
      "source": [
        "Image(\"/content/cloned-repo/images/motorcycle.png\" , width=640)"
      ],
      "execution_count": null,
      "outputs": []
    },
    {
      "cell_type": "code",
      "metadata": {
        "id": "f5qhOobMMgtp"
      },
      "source": [
        "# transfer learning - load pre-trained vgg and replace its head\n",
        "vgg = tf.keras.applications.VGG16(input_shape=[128, 128, 3], include_top=False, weights='imagenet')\n",
        "x = Flatten()(vgg.output)\n",
        "x = Dense(3, activation='sigmoid')(x)\n",
        "model1 = Model(vgg.input, x)\n",
        "model1.compile(loss='binary_crossentropy', optimizer=Adam(lr=0.001))\n",
        "# plot the model\n",
        "plot_model(model1, \"first_model.png\",show_shapes=True,expand_nested=False)"
      ],
      "execution_count": null,
      "outputs": []
    },
    {
      "cell_type": "code",
      "metadata": {
        "id": "a_zqx_ByTkZt"
      },
      "source": [
        "model1.summary()"
      ],
      "execution_count": null,
      "outputs": []
    },
    {
      "cell_type": "markdown",
      "metadata": {
        "id": "O9k7yspXPaao"
      },
      "source": [
        "**Create a synthetic dataset**"
      ]
    },
    {
      "cell_type": "code",
      "metadata": {
        "id": "DE8FZVW-Mmne"
      },
      "source": [
        "from matplotlib.patches import Circle\n",
        "#Our dataset is called synthetic_gen\n",
        "\n",
        "def synthetic_gen(batch_size=64):\n",
        "  # enable generating infinite amount of batches\n",
        "  while True:\n",
        "      # generate black images in the wanted size\n",
        "      X = np.zeros((batch_size, 128, 128, 3))\n",
        "      Y = np.zeros((batch_size, 3))\n",
        "      # fill each image\n",
        "      for i in range(batch_size):\n",
        "        x = np.random.randint(8,120)\n",
        "        y = np.random.randint(8,120)\n",
        "        a = min(128 - max(x,y), min(x,y))\n",
        "        r = np.random.randint(4,a)\n",
        "        for x_i in range(128):\n",
        "          for y_i in range(128):\n",
        "            if ((x_i - x)**2) + ((y_i - y)**2) < r**2:\n",
        "              X[i, x_i, y_i,:] = 1\n",
        "        Y[i,0] = (x-r)/128.\n",
        "        Y[i,1] = (y-r)/128.\n",
        "        Y[i,2] = 2*r / 128.\n",
        "      yield X, Y\n",
        "\n",
        "# sanity check - plot the images\n",
        "x,y = next(synthetic_gen())\n",
        "plt.imshow(x[0])"
      ],
      "execution_count": null,
      "outputs": []
    },
    {
      "cell_type": "code",
      "metadata": {
        "id": "xAQnEzdQPqnO"
      },
      "source": [
        "plt.imshow(x[63])"
      ],
      "execution_count": null,
      "outputs": []
    },
    {
      "cell_type": "markdown",
      "metadata": {
        "id": "w27fWtTtQAeU"
      },
      "source": [
        "**Train the model to predict the bounding box** for each white circle on the black background"
      ]
    },
    {
      "cell_type": "code",
      "metadata": {
        "id": "CDkivTChMq8x"
      },
      "source": [
        "# needs steps per epoch since the generator is infinite\n",
        "model1.fit_generator(synthetic_gen(),steps_per_epoch=EPOCH_SIZE,epochs=5)"
      ],
      "execution_count": null,
      "outputs": []
    },
    {
      "cell_type": "markdown",
      "metadata": {
        "id": "51IJZSG9RT5A"
      },
      "source": [
        "**Add bounding boxes**<br>\n",
        "When an object is detected, <br>\n",
        ">get the coordinates for the upper left corner of the bounding box<br>\n",
        "get the width and height of the bounding box<br>\n",
        "\n",
        ">The draw the bounding box on the image"
      ]
    },
    {
      "cell_type": "code",
      "metadata": {
        "id": "U8j2h235UtEZ"
      },
      "source": [
        "from matplotlib.patches import Rectangle\n",
        "\n",
        "# given image and a label, plots the image + rectangle\n",
        "def plot_pred(img,p):\n",
        "  fig, ax = plt.subplots(1)\n",
        "  ax.imshow(img)\n",
        "  rect = Rectangle(xy=(p[1]*128,p[0]*128),width=p[2]*128, height=p[2]*128, \n",
        "                   linewidth=3,edgecolor='g',facecolor='none')\n",
        "  ax.add_patch(rect)\n",
        "  plt.show()\n",
        "\n",
        "\n",
        "# generate new image\n",
        "x, _ = next(synthetic_gen())\n",
        "# predict\n",
        "pred = model1.predict(x)\n",
        "# examine 1 image\n",
        "im = x[0]\n",
        "p = pred[0]\n",
        "plot_pred(im,p)"
      ],
      "execution_count": null,
      "outputs": []
    },
    {
      "cell_type": "code",
      "metadata": {
        "id": "F873jcykSACa"
      },
      "source": [
        "im = x[20]\n",
        "p = pred[20]\n",
        "plot_pred(im,p)"
      ],
      "execution_count": null,
      "outputs": []
    },
    {
      "cell_type": "markdown",
      "metadata": {
        "id": "uqFwRNXgUH6n"
      },
      "source": [
        "Circles are easy, let's try a different type of image. <br>\n"
      ]
    },
    {
      "cell_type": "code",
      "metadata": {
        "id": "nY8E27X6UXOd"
      },
      "source": [
        "import cv2\n",
        "from google.colab.patches import cv2_imshow\n",
        "image = cv2.imread(\"/content/cloned-repo/cat.png\")\n",
        "cv2_imshow(image)"
      ],
      "execution_count": null,
      "outputs": []
    },
    {
      "cell_type": "markdown",
      "metadata": {
        "id": "QfwWhyqTUwzC"
      },
      "source": [
        "**Cat Images**<br>\n",
        "Place the cat image on a black background, can the model find the image and can an accurate box be drawn around the cat?"
      ]
    },
    {
      "cell_type": "code",
      "metadata": {
        "id": "wzP4uPhOUybV"
      },
      "source": [
        "from PIL import Image\n",
        "from matplotlib.patches import Circle\n",
        "\n",
        "cat_pil = Image.open(\"cat.png\")\n",
        "cat_pil = cat_pil.resize((64,64))\n",
        "cat = np.asarray(cat_pil)\n",
        "\n",
        "#define a function to generate different versions of the cat image\n",
        "def cat_gen(batch_size=64):\n",
        "  # enable generating infinite amount of batches\n",
        "  while True:\n",
        "      # generate black images in the wanted size\n",
        "      X = np.zeros((batch_size, 128, 128, 3))\n",
        "      Y = np.zeros((batch_size, 3))\n",
        "      # fill each image\n",
        "      for i in range(batch_size):\n",
        "        # resize the cat\n",
        "        size = np.random.randint(32,64)\n",
        "        #To rotate the image, change the following line\n",
        "        temp_cat = cat_pil.resize((size,size))\n",
        "        cat = np.asarray(temp_cat) / 255.\n",
        "        cat_x, cat_y, _ = cat.shape\n",
        "        # create a blank background image\n",
        "        bg = Image.new('RGB', (128, 128))\n",
        "        # generate \n",
        "        x1 = np.random.randint(1,128 - cat_x)\n",
        "        y1 = np.random.randint(1,128 - cat_y)\n",
        "        # paste the cat over the image\n",
        "        bg.paste(temp_cat, (x1, y1))\n",
        "        cat = np.asarray(bg) / 255. # transform into a np array\n",
        "        X[i] = cat\n",
        "\n",
        "        Y[i,0] = x1/128.\n",
        "        Y[i,1] = y1/128.\n",
        "        Y[i,2] = cat_x / 128.\n",
        "      yield X, Y\n",
        "\n",
        "# plot the images\n",
        "x,y = next(cat_gen())\n",
        "plt.imshow(x[32])"
      ],
      "execution_count": null,
      "outputs": []
    },
    {
      "cell_type": "markdown",
      "metadata": {
        "id": "E-rQdC8fV7Tx"
      },
      "source": [
        "**Use the pretrained VGG16 model**<br>\n",
        "The pretrained model is now used to find the cat on a black background. \n"
      ]
    },
    {
      "cell_type": "code",
      "metadata": {
        "id": "ofQKMkvdWOzn"
      },
      "source": [
        "# transfer learning - load pre-trained vgg and replace its head\n",
        "vgg = tf.keras.applications.VGG16(input_shape=[128, 128, 3], include_top=False, weights='imagenet')\n",
        "x = Flatten()(vgg.output)\n",
        "x = Dense(3, activation='sigmoid')(x)\n",
        "model2 = Model(vgg.input, x)\n",
        "model2.compile(loss='binary_crossentropy', optimizer=Adam(lr=0.001))\n",
        "# plot the model\n",
        "plot_model(model2, \"second_model.png\",show_shapes=True)\n",
        "\n",
        "# needs steps per epoch since the generator is infinite\n",
        "model2.fit_generator(cat_gen(),steps_per_epoch=EPOCH_SIZE,epochs=5)\n",
        "\n",
        "from matplotlib.patches import Rectangle\n",
        "\n",
        "# given image and a label, plots the image + rectangle\n",
        "def plot_pred(img,p):\n",
        "  fig, ax = plt.subplots(1)\n",
        "  ax.imshow(img)\n",
        "  rect = Rectangle(xy=(p[0]*128,p[1]*128),width=p[2]*128, height=p[2]*128, \n",
        "                   linewidth=4,edgecolor='g',facecolor='none')\n",
        "  ax.add_patch(rect)\n",
        "  plt.show()"
      ],
      "execution_count": null,
      "outputs": []
    },
    {
      "cell_type": "markdown",
      "metadata": {
        "id": "HmWi-QMYcA6_"
      },
      "source": [
        "**Generate a new image with the bounding box**<br>\n",
        "After finding the cat, draw a bounding box around it. "
      ]
    },
    {
      "cell_type": "code",
      "metadata": {
        "id": "1lrDx9kfbmId"
      },
      "source": [
        "# generate new image\n",
        "x, _ = next(cat_gen())\n",
        "# predict\n",
        "pred = model2.predict(x)\n",
        "# examine 1 image\n",
        "im = x[0]\n",
        "p = pred[0]\n",
        "plot_pred(im,p)"
      ],
      "execution_count": null,
      "outputs": []
    },
    {
      "cell_type": "code",
      "metadata": {
        "id": "6EXl4lrzWo9B"
      },
      "source": [
        "num=10\n",
        "im = x[num]\n",
        "p = pred[num]\n",
        "plot_pred(im,p)"
      ],
      "execution_count": null,
      "outputs": []
    },
    {
      "cell_type": "markdown",
      "metadata": {
        "id": "tMuAUXmUXu1P"
      },
      "source": [
        "**Can the model find the object if we rotate it?**<br>\n",
        "The model found the cat when the cat was in the same orientation as the original, does it matter if the orientation is changed?"
      ]
    },
    {
      "cell_type": "markdown",
      "metadata": {
        "id": "cEzG7UdUaPoy"
      },
      "source": [
        "# **Assignment 1** \n",
        "Rotate the image at least 30 degrees, can the model still find the image?<br>\n",
        "1. Generate in cat images with rotation instead of resize\n",
        "2. Make predictions\n",
        "3. Display the image with the bounding box\n",
        "\n",
        "*Hint: You don't need to retrain the model*"
      ]
    },
    {
      "cell_type": "code",
      "metadata": {
        "id": "xfy6TVqLamtQ"
      },
      "source": [
        "#Assignment 1 - Rotate the object\n",
        "cat_pil = Image.open(\"cat.png\")\n",
        "cat_pil = cat_pil.resize((64,64))\n",
        "cat = np.asarray(cat_pil)\n",
        "\n",
        "#define a function to generate different versions of the cat image\n",
        "def cat_gen(batch_size=64):\n",
        "  # enable generating infinite amount of batches\n",
        "  while True:\n",
        "      # generate black images in the wanted size\n",
        "      X = np.zeros((batch_size, 128, 128, 3))\n",
        "      Y = np.zeros((batch_size, 3))\n",
        "      # fill each image\n",
        "      for i in range(batch_size):\n",
        "        # resize the cat\n",
        "        size = np.random.randint(32,64)\n",
        "        #To rotate the image, change the following line\n",
        "        temp_cat = cat_pil.resize((size,size))\n",
        "        #===Rotate code here===#\n",
        "        \n",
        "        cat = np.asarray(temp_cat) / 255.\n",
        "        cat_x, cat_y, _ = cat.shape\n",
        "        # create a blank background image\n",
        "        bg = Image.new('RGB', (128, 128))\n",
        "        # generate \n",
        "        x1 = np.random.randint(1,128 - cat_x)\n",
        "        y1 = np.random.randint(1,128 - cat_y)\n",
        "        # paste the cat over the image\n",
        "        bg.paste(temp_cat, (x1, y1))\n",
        "        cat = np.asarray(bg) / 255. # transform into a np array\n",
        "        X[i] = cat\n",
        "\n",
        "        Y[i,0] = x1/128.\n",
        "        Y[i,1] = y1/128.\n",
        "        Y[i,2] = cat_x / 128.\n",
        "      yield X, Y\n",
        "\n",
        "# plot the images\n",
        "x,y = next(cat_gen())\n",
        "plt.imshow(x[32])\n",
        "\n",
        "x, _ = next(cat_gen())\n",
        "# predict\n",
        "pred = model2.predict(x)\n",
        "# examine 1 image\n",
        "im = x[0]\n",
        "p = pred[0]\n",
        "plot_pred(im,p)"
      ],
      "execution_count": null,
      "outputs": []
    },
    {
      "cell_type": "code",
      "metadata": {
        "id": "AxKiNw5oXLd-",
        "cellView": "form"
      },
      "source": [
        "#@title\n",
        "def cat_gen(batch_size=64):\n",
        "  # enable generating infinite amount of batches\n",
        "  while True:\n",
        "      # generate black images in the wanted size\n",
        "      X = np.zeros((batch_size, 128, 128, 3))\n",
        "      Y = np.zeros((batch_size, 3))\n",
        "      # fill each image\n",
        "      for i in range(batch_size):\n",
        "        # resize the cat\n",
        "        size = np.random.randint(32,64)\n",
        "        temp_cat = cat_pil.rotate(30)\n",
        "        #temp_cat = cat_pil.resize((size,size))\n",
        "        cat = np.asarray(temp_cat) / 255.\n",
        "        cat_x, cat_y, _ = cat.shape\n",
        "        # create a blank background image\n",
        "        bg = Image.new('RGB', (128, 128))\n",
        "        # generate \n",
        "        x1 = np.random.randint(1,128 - cat_x)\n",
        "        y1 = np.random.randint(1,128 - cat_y)\n",
        "        # paste the cat over the image\n",
        "        bg.paste(temp_cat, (x1, y1))\n",
        "        cat = np.asarray(bg) / 255. # transform into a np array\n",
        "        X[i] = cat\n",
        "\n",
        "        Y[i,0] = x1/128.\n",
        "        Y[i,1] = y1/128.\n",
        "        Y[i,2] = cat_x / 128.\n",
        "      yield X, Y\n",
        "\n",
        "# plot the images\n",
        "x,y = next(cat_gen())\n",
        "plt.imshow(x[32])"
      ],
      "execution_count": null,
      "outputs": []
    },
    {
      "cell_type": "code",
      "metadata": {
        "id": "flsmR-EwXkoS",
        "cellView": "form"
      },
      "source": [
        "#@title\n",
        "# generate new image\n",
        "x, _ = next(cat_gen())\n",
        "# predict\n",
        "pred = model2.predict(x)\n",
        "# examine 1 image\n",
        "im = x[0]\n",
        "p = pred[0]\n",
        "plot_pred(im,p)"
      ],
      "execution_count": null,
      "outputs": []
    },
    {
      "cell_type": "markdown",
      "metadata": {
        "id": "kAKG8NTdW-Gb"
      },
      "source": [
        "**Can the model find the cat on a background that is not black?**"
      ]
    },
    {
      "cell_type": "markdown",
      "metadata": {
        "id": "3X5lcWhkcJJv"
      },
      "source": [
        "Create new images with the cat and landscape backgrounds"
      ]
    },
    {
      "cell_type": "code",
      "metadata": {
        "id": "InmsM4GeWoVB"
      },
      "source": [
        "from PIL import Image\n",
        "\n",
        "cat_pil = Image.open(\"cat.png\")\n",
        "cat_pil = cat_pil.resize((64,64))\n",
        "cat = np.asarray(cat_pil)\n",
        "\n",
        "def natural_cat_gen(batch_size=64):\n",
        "  # enable generating infinite amount of batches\n",
        "  while True:\n",
        "      # generate black images in the wanted size\n",
        "      X = np.zeros((batch_size, 128, 128, 3))\n",
        "      Y = np.zeros((batch_size, 3))\n",
        "      # fill each image\n",
        "      for i in range(batch_size):\n",
        "        # resize the cat\n",
        "        size = np.random.randint(32,64)\n",
        "        temp_cat = cat_pil.resize((size,size))\n",
        "        cat = np.asarray(temp_cat) / 255.\n",
        "        cat_x, cat_y, _ = cat.shape\n",
        "        # background image\n",
        "        bg_name = f'landscape1.jpg'\n",
        "        bg = Image.open(bg_name)\n",
        "\n",
        "        x1 = np.random.randint(1,128 - cat_x)\n",
        "        y1 = np.random.randint(1,128 - cat_y)\n",
        "        h = cat_x\n",
        "        w = cat_y\n",
        "        # draw the cat over the selected background image\n",
        "        bg.paste(temp_cat, (x1, y1),mask=temp_cat)\n",
        "        cat = np.asarray(bg) / 255.\n",
        "        X[i] = cat\n",
        "\n",
        "        Y[i,0] = x1/128.\n",
        "        Y[i,1] = y1/128.\n",
        "        Y[i,2] = cat_x / 128.\n",
        "      yield X, Y\n",
        "\n",
        "# sanity check - plot the images\n",
        "x,y = next(natural_cat_gen())\n",
        "plt.imshow(x[0])"
      ],
      "execution_count": null,
      "outputs": []
    },
    {
      "cell_type": "markdown",
      "metadata": {
        "id": "9WDWk-oicdON"
      },
      "source": [
        "Use the pretrained VGG16 on the new background images"
      ]
    },
    {
      "cell_type": "code",
      "metadata": {
        "id": "7o2nFSM_ThxS"
      },
      "source": [
        "# define a mode\n",
        "# transfer learning - load pre-trained vgg and replace its head\n",
        "vgg = tf.keras.applications.VGG16(input_shape=[128, 128, 3], include_top=False, weights='imagenet')\n",
        "x = Flatten()(vgg.output)\n",
        "x = Dense(3, activation='sigmoid')(x)\n",
        "model3 = Model(vgg.input, x)\n",
        "model3.compile(loss='binary_crossentropy', optimizer=Adam(lr=0.001))\n",
        "# plot the model\n",
        "plot_model(model3, \"third_model.png\",show_shapes=True)\n",
        "\n",
        "# train it\n",
        "# needs steps per epoch since the generator is infinite\n",
        "model3.fit_generator(natural_cat_gen(),steps_per_epoch=EPOCH_SIZE,epochs=5)\n",
        "\n",
        "from matplotlib.patches import Rectangle\n",
        "\n",
        "# given image and a label, plots the image + rectangle\n",
        "def plot_pred(img,p):\n",
        "  fig, ax = plt.subplots(1)\n",
        "  ax.imshow(img)\n",
        "  rect = Rectangle(xy=(p[0]*128,p[1]*128),width=p[2]*128, height=p[2]*128, linewidth=1,edgecolor='r',facecolor='none')\n",
        "  ax.add_patch(rect)\n",
        "  plt.show()"
      ],
      "execution_count": null,
      "outputs": []
    },
    {
      "cell_type": "markdown",
      "metadata": {
        "id": "6253mLLFchHW"
      },
      "source": [
        "Look at the images with the added bounding box"
      ]
    },
    {
      "cell_type": "code",
      "metadata": {
        "id": "Ud6ZMCRIb0li"
      },
      "source": [
        "# generate new image\n",
        "x, _ = next(natural_cat_gen())\n",
        "# predict\n",
        "pred = model3.predict(x)\n",
        "# examine 1 image\n",
        "im = x[0]\n",
        "p = pred[0]\n",
        "plot_pred(im,p)"
      ],
      "execution_count": null,
      "outputs": []
    },
    {
      "cell_type": "markdown",
      "metadata": {
        "id": "xq890DPHc6Jq"
      },
      "source": [
        "# **Assignment 2:** \n",
        "Change the background images and try the model on different backgrounds. "
      ]
    },
    {
      "cell_type": "code",
      "metadata": {
        "id": "o8cf6C7edLhP"
      },
      "source": [
        "#Assignment 2\n"
      ],
      "execution_count": null,
      "outputs": []
    }
  ]
}