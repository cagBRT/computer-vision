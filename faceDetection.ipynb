{
  "nbformat": 4,
  "nbformat_minor": 0,
  "metadata": {
    "colab": {
      "name": "faceDetection.ipynb",
      "provenance": [],
      "include_colab_link": true
    },
    "kernelspec": {
      "name": "python3",
      "display_name": "Python 3"
    }
  },
  "cells": [
    {
      "cell_type": "markdown",
      "metadata": {
        "id": "view-in-github",
        "colab_type": "text"
      },
      "source": [
        "<a href=\"https://colab.research.google.com/github/cagBRT/computer-vision/blob/master/faceDetection.ipynb\" target=\"_parent\"><img src=\"https://colab.research.google.com/assets/colab-badge.svg\" alt=\"Open In Colab\"/></a>"
      ]
    },
    {
      "cell_type": "code",
      "metadata": {
        "id": "wgSHNHX2wmEQ",
        "colab_type": "code",
        "colab": {}
      },
      "source": [
        "!git clone -l -s https://github.com/opencv/opencv.git \n",
        "!pwd"
      ],
      "execution_count": null,
      "outputs": []
    },
    {
      "cell_type": "code",
      "metadata": {
        "id": "k-MQEDw-W0C6",
        "colab_type": "code",
        "colab": {}
      },
      "source": [
        "# Clone the entire repo.\n",
        "!git clone -l -s https://github.com/cagBRT/computer-vision.git cloned-repo\n",
        "%cd cloned-repo\n",
        "!ls"
      ],
      "execution_count": null,
      "outputs": []
    },
    {
      "cell_type": "code",
      "metadata": {
        "id": "ypj_yYLbW6g1",
        "colab_type": "code",
        "colab": {}
      },
      "source": [
        "import numpy as np\n",
        "import cv2\n",
        "from google.colab.patches import cv2_imshow"
      ],
      "execution_count": null,
      "outputs": []
    },
    {
      "cell_type": "markdown",
      "metadata": {
        "id": "zZPKcZzYYC0N",
        "colab_type": "text"
      },
      "source": [
        "Use the built-in Haar cascade classifiers in OpenCV. these classifiers have already been pre-trained to recognize faces!"
      ]
    },
    {
      "cell_type": "markdown",
      "metadata": {
        "id": "QyzNATHoYO-C",
        "colab_type": "text"
      },
      "source": [
        "These classifiers work by scanning an image from left to right, and top to bottom, at varying scale sizes. Scanning an image from left to right and top to bottom is called the “sliding window” approach.<br>\n",
        "As the window moves from left to right and top to bot- tom, one pixel at a time, the classifier is asked whether or not it “thinks” there is a face in the current window, based on the parameters supplied to the classifier.\n"
      ]
    },
    {
      "cell_type": "markdown",
      "metadata": {
        "id": "H9kYOBleYap5",
        "colab_type": "text"
      },
      "source": [
        "• **scaleFactor**: How much the image size is reduced at each image scale. This value is used to create the scale pyramid in order to detect faces at multiple scales in the image (some faces may be closer to the fore- ground, and thus be larger; other faces may be smaller and in the background, thus the usage of varying scales). A value of 1.05 indicates that Jeremy is re- ducing the size of the image by 5% at each level in the pyramid.<br><br>\n",
        "• **minNeighbors**: How many neighbors each window should have for the area in the window to be consid- ered a face. The cascade classifier will detect multiple windows around a face. This parameter controls how many rectangles (neighbors) need to be detected for the window to be labeled a face.<br><br>\n",
        "• **minSize**: A tuple of width and height (in pixels) in- dicating the minimum size of the window. Bounding boxes smaller than this size are ignored. It is a good idea to start with (30, 30) and fine-tune from there.\n"
      ]
    },
    {
      "cell_type": "code",
      "metadata": {
        "id": "5ikuDgbZZtgH",
        "colab_type": "code",
        "colab": {}
      },
      "source": [
        "image = cv2.imread(\"images/faces.jpg\")\n",
        "cv2_imshow(image)"
      ],
      "execution_count": null,
      "outputs": []
    },
    {
      "cell_type": "markdown",
      "metadata": {
        "id": "NJV_sFWbm6E4",
        "colab_type": "text"
      },
      "source": [
        "# **Convert the image to grayscale**"
      ]
    },
    {
      "cell_type": "code",
      "metadata": {
        "id": "oBzpOAhXXjdM",
        "colab_type": "code",
        "colab": {}
      },
      "source": [
        "gray = cv2.cvtColor(image, cv2.COLOR_BGR2GRAY)\n",
        "cv2_imshow(gray)"
      ],
      "execution_count": null,
      "outputs": []
    },
    {
      "cell_type": "markdown",
      "metadata": {
        "id": "6lzwZad47PVv",
        "colab_type": "text"
      },
      "source": [
        "The parameters to the cv2.detect-MutliScale function tend to be sensitive, and some parameter choices for one set of images will not work for another set of images."
      ]
    },
    {
      "cell_type": "markdown",
      "metadata": {
        "id": "LNw-Ehss7Yz2",
        "colab_type": "text"
      },
      "source": [
        "**In most cases, the offending culprit will be the scaleFactor parameter.**<br> \n",
        "In other cases it may be minNeighbors. <br>\n",
        "As a debugging rule, start with the scaleFactor, adjust it as needed, and then move on to minNeighbors.\n"
      ]
    },
    {
      "cell_type": "markdown",
      "metadata": {
        "id": "y0QU9CSJm-_K",
        "colab_type": "text"
      },
      "source": [
        "**Use the classifier, equalizerHist, and detectMultiScale to find faces in the grayscale image**"
      ]
    },
    {
      "cell_type": "code",
      "metadata": {
        "id": "a30YaH_q5Wv3",
        "colab_type": "code",
        "colab": {}
      },
      "source": [
        "# initialize front face classifier\n",
        "cascade = cv2.CascadeClassifier(\n",
        "  \"/content/opencv/data/haarcascades/haarcascade_frontalface_default.xml\")\n",
        "\n",
        "frame = cv2.imread('face.jpeg')\n",
        "\n",
        "# Convert to black-and-white\n",
        "gray = cv2.cvtColor(image, cv2.COLOR_BGR2GRAY)\n",
        "blackwhite = cv2.equalizeHist(gray)\n",
        "\n",
        "rects = cascade.detectMultiScale(blackwhite, \n",
        "                                 scaleFactor=1.1, \n",
        "                                 minNeighbors=3, \n",
        "                                 minSize=(30, 30),\n",
        "                                 flags=cv2.CASCADE_SCALE_IMAGE)"
      ],
      "execution_count": null,
      "outputs": []
    },
    {
      "cell_type": "markdown",
      "metadata": {
        "id": "n4IwSzs6nWeu",
        "colab_type": "text"
      },
      "source": [
        "**Plot the rectangles on the full color image**"
      ]
    },
    {
      "cell_type": "code",
      "metadata": {
        "id": "85X-kEZPvGRr",
        "colab_type": "code",
        "colab": {}
      },
      "source": [
        "for (x, y, w, h) in rects:\n",
        "  cv2.rectangle(image, (x, y), (x + w, y + h), (0, 255, 0), 2)\n",
        "cv2_imshow(image)"
      ],
      "execution_count": null,
      "outputs": []
    },
    {
      "cell_type": "markdown",
      "metadata": {
        "id": "61qj9E-F8upy",
        "colab_type": "text"
      },
      "source": [
        "While Haar cascades are quite fast and can obtain decent accuracy, they have two prominent shortcomings.\n",
        "\n",
        "**The first is parameter tuning**. You’ll (likely) need to tweak the parameters of the detectMultiScale  function on a per-image basis. This can be a real pain, especially if you are looking to bulk process a dataset of images and cannot manually inspect the output of each face detection.\n",
        "\n",
        "**The second shortcoming** is that Haar cascades can be highly prone to false positives, meaning that faces are detected when there really aren’t any there!\n",
        "\n",
        "Again, this problem can be fixed by tuning the parameters of detectMultiScale  on a case-by-case basis."
      ]
    },
    {
      "cell_type": "markdown",
      "metadata": {
        "id": "Yp4iMzEb82Cd",
        "colab_type": "text"
      },
      "source": [
        "If you find yourself in a situation where either method is not working to your required level of accuracy:\n",
        "\n",
        "**Haar cascades are not giving you your desired level of accuracy**.\n",
        "You need to train your own custom object detector.<br>\n",
        "\n",
        "I would suggest using the HOG + Linear SVM framework, utilizing an image pyramid and sliding windows, you can detect objects in images at various scales and locations."
      ]
    },
    {
      "cell_type": "markdown",
      "metadata": {
        "id": "KS5CzX3dn7c0",
        "colab_type": "text"
      },
      "source": [
        "# **Assignment 1**\n",
        "Detect all the faces in images/faces3.jpg"
      ]
    },
    {
      "cell_type": "code",
      "metadata": {
        "id": "vhB7MFHRng5s",
        "colab_type": "code",
        "colab": {}
      },
      "source": [
        ""
      ],
      "execution_count": null,
      "outputs": []
    },
    {
      "cell_type": "code",
      "metadata": {
        "id": "2RblXcRMnqEk",
        "colab_type": "code",
        "colab": {}
      },
      "source": [
        ""
      ],
      "execution_count": null,
      "outputs": []
    },
    {
      "cell_type": "code",
      "metadata": {
        "id": "cWyeMfawnuD6",
        "colab_type": "code",
        "colab": {}
      },
      "source": [
        ""
      ],
      "execution_count": null,
      "outputs": []
    },
    {
      "cell_type": "code",
      "metadata": {
        "id": "QmkSgki_n1vv",
        "colab_type": "code",
        "colab": {}
      },
      "source": [
        ""
      ],
      "execution_count": null,
      "outputs": []
    },
    {
      "cell_type": "markdown",
      "metadata": {
        "id": "qpWcpTOWxhHR",
        "colab_type": "text"
      },
      "source": [
        "# **Detect Eyes**"
      ]
    },
    {
      "cell_type": "markdown",
      "metadata": {
        "id": "ORxxatwGskHB",
        "colab_type": "text"
      },
      "source": [
        "There are two stages in a cascade classifier: <br>detection<br>\n",
        " training. <br><br>\n",
        "OpenCV offers pre-trained classifiers such as eyes, face, and smile. <br>\n",
        "<br>In order to detect, those classifiers, there are XML files associated to the classifiers that must be imported into your code."
      ]
    },
    {
      "cell_type": "markdown",
      "metadata": {
        "id": "LMvaUdGEzlXn",
        "colab_type": "text"
      },
      "source": [
        "Classifiers which can detect both open and closed eyes include:<br><br>\n",
        "\n",
        "haarcascade_mcs_lefteye.xml<br>\n",
        "haarcascade_mcs_righteye.xml<br>\n",
        "haarcascade_lefteye_2splits.xml<br>\n",
        "haarcascade_righteye_2splits.xml<br><br>\n",
        "Classifiers which can only detect open eyes:<br>\n",
        "\n",
        "haarcascade_eye.xml<br>\n",
        "haarcascade_eye_tree_eyeglasses.xml<br><br>\n",
        "\n",
        "The difference between haarcascade_eye.xml and haarcascade_eye_tree_eyeglasses.xml is <br>\n",
        ">haarcascade_eye_tree_eyeglasses.xml can detect the eyes if the person is wearing glasses, but is not reliable if they do not wear glasses."
      ]
    },
    {
      "cell_type": "code",
      "metadata": {
        "id": "sJcOOPAnwFgt",
        "colab_type": "code",
        "colab": {}
      },
      "source": [
        "face_cascade = cv2.CascadeClassifier('/content/opencv/data/haarcascades/haarcascade_frontalface_default.xml')\n",
        "eye_cascade = cv2.CascadeClassifier('/content/opencv/data/haarcascades/haarcascade_eye.xml')\n",
        "eyeglasses_cascade = cv2.CascadeClassifier('/content/opencv/data/haarcascades/haarcascade_eye_tree_eyeglasses.xml')\n",
        "smile_cascade = cv2.CascadeClassifier('/content/opencv/data/haarcascades/haarcascade_smile.xml')\n",
        "upperbody_cascade = cv2.CascadeClassifier('/content/opencv/data/haarcascades/haarcascade_upperbody.xml')\n"
      ],
      "execution_count": null,
      "outputs": []
    },
    {
      "cell_type": "code",
      "metadata": {
        "id": "Hr3cDs6kp1uJ",
        "colab_type": "code",
        "colab": {}
      },
      "source": [
        "img = cv2.imread(\"images/faces4.jpg\")\n",
        "\n",
        "gray = cv2.cvtColor(img, cv2.COLOR_BGR2GRAY)\n",
        "cv2_imshow(gray)"
      ],
      "execution_count": null,
      "outputs": []
    },
    {
      "cell_type": "code",
      "metadata": {
        "id": "wAjedBSerRQS",
        "colab_type": "code",
        "colab": {}
      },
      "source": [
        "blackwhite = cv2.equalizeHist(gray)\n",
        "\n",
        "rects = cascade.detectMultiScale(blackwhite, \n",
        "                                 scaleFactor=1.1, \n",
        "                                 minNeighbors=3, \n",
        "                                 minSize=(30, 30),\n",
        "                                 flags=cv2.CASCADE_SCALE_IMAGE)"
      ],
      "execution_count": null,
      "outputs": []
    },
    {
      "cell_type": "code",
      "metadata": {
        "id": "SGDIDy5OsFRJ",
        "colab_type": "code",
        "colab": {}
      },
      "source": [
        "faces = face_cascade.detectMultiScale(gray, 1.3, 5)\n",
        " \n",
        "for (x,y,w,h) in faces:\n",
        "    cv2.rectangle(img,(x,y),(x+w,y+h),(255,0,0),2)\n",
        "    roi_gray = gray[y:y+h, x:x+w]\n",
        "    roi_color = img[y:y+h, x:x+w]\n",
        "    eyes = eye_cascade.detectMultiScale(roi_gray)\n",
        "    for (ex,ey,ew,eh) in eyes:\n",
        "        cv2.rectangle(roi_color,(ex,ey),(ex+ew,ey+eh),(0,255,0),2)"
      ],
      "execution_count": null,
      "outputs": []
    },
    {
      "cell_type": "code",
      "metadata": {
        "id": "ST9DHZ_SxEPu",
        "colab_type": "code",
        "colab": {}
      },
      "source": [
        "for (x, y, w, h) in rects:\n",
        "  cv2.rectangle(img, (x, y), (x + w, y + h), (0, 255, 0), 2)\n",
        "cv2_imshow(img)"
      ],
      "execution_count": null,
      "outputs": []
    },
    {
      "cell_type": "markdown",
      "metadata": {
        "id": "5hrZGu0Nz7jY",
        "colab_type": "text"
      },
      "source": [
        "# **Assignment 2**\n",
        "Use at least one of the cascadeClassifiers to detect a facial feature in images/faces2.jpg"
      ]
    },
    {
      "cell_type": "code",
      "metadata": {
        "id": "lSPO-4Cm0PPT",
        "colab_type": "code",
        "colab": {}
      },
      "source": [
        ""
      ],
      "execution_count": null,
      "outputs": []
    }
  ]
}