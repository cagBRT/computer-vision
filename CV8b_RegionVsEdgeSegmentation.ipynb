{
  "nbformat": 4,
  "nbformat_minor": 0,
  "metadata": {
    "colab": {
      "name": "CV8b RegionVsEdgeSegmentation.ipynb",
      "provenance": [],
      "private_outputs": true,
      "authorship_tag": "ABX9TyNfPWn6I4KggpF++UK45DUr",
      "include_colab_link": true
    },
    "kernelspec": {
      "name": "python3",
      "display_name": "Python 3"
    },
    "accelerator": "GPU"
  },
  "cells": [
    {
      "cell_type": "markdown",
      "metadata": {
        "id": "view-in-github",
        "colab_type": "text"
      },
      "source": [
        "<a href=\"https://colab.research.google.com/github/cagBRT/computer-vision/blob/master/CV8b_RegionVsEdgeSegmentation.ipynb\" target=\"_parent\"><img src=\"https://colab.research.google.com/assets/colab-badge.svg\" alt=\"Open In Colab\"/></a>"
      ]
    },
    {
      "cell_type": "markdown",
      "metadata": {
        "id": "0fARAvtq3R7A"
      },
      "source": [
        "https://scikit-image.org/docs/stable/auto_examples/applications/plot_coins_segmentation.html#sphx-glr-auto-examples-applications-plot-coins-segmentation-py\n"
      ]
    },
    {
      "cell_type": "markdown",
      "metadata": {
        "id": "VXciU3ctlK7X"
      },
      "source": [
        "In this notebook, we see how to segment objects from a background, using the coins image from skimage.data. This image shows several coins outlined against a darker background. The segmentation of the coins cannot be done directly from the histogram of grey values, because the background shares enough grey levels with the coins that a thresholding segmentation is not sufficient."
      ]
    },
    {
      "cell_type": "code",
      "metadata": {
        "id": "CLYLvmdfbntZ"
      },
      "source": [
        "!git clone -l -s https://github.com/cagBRT/computer-vision.git cloned-repo\n",
        "%cd cloned-repo"
      ],
      "execution_count": null,
      "outputs": []
    },
    {
      "cell_type": "markdown",
      "metadata": {
        "id": "dBUjWsTfoCn-"
      },
      "source": [
        "**Import the required libraries**"
      ]
    },
    {
      "cell_type": "code",
      "metadata": {
        "id": "sWBhJpy30q6N"
      },
      "source": [
        "import numpy as np\n",
        "import matplotlib.pyplot as plt\n",
        "\n",
        "from skimage import data\n",
        "from skimage.exposure import histogram\n",
        "import cv2\n",
        "from google.colab.patches import cv2_imshow"
      ],
      "execution_count": null,
      "outputs": []
    },
    {
      "cell_type": "markdown",
      "metadata": {
        "id": "2Y5oo9-FoOMT"
      },
      "source": [
        "When we look at the coins and the background, we can see there is not much difference between the two. Recall that if there is not a large contrast between regions, region based segmentation can be difficult. "
      ]
    },
    {
      "cell_type": "code",
      "metadata": {
        "id": "wBGm1Fp4lRSv"
      },
      "source": [
        "coins = data.coins()\n",
        "hist, hist_centers = histogram(coins)\n",
        "\n",
        "fig, axes = plt.subplots(1, 2, figsize=(8, 3))\n",
        "axes[0].imshow(coins, cmap=plt.cm.gray)\n",
        "axes[0].axis('off')\n",
        "axes[1].plot(hist_centers, hist, lw=2)\n",
        "axes[1].set_title('histogram of gray values')"
      ],
      "execution_count": null,
      "outputs": []
    },
    {
      "cell_type": "markdown",
      "metadata": {
        "id": "6FmgTahslZ2w"
      },
      "source": [
        "Simply thresholding the image leads either to missing significant parts of the coins, or to merging parts of the background with the coins. This is due to the change in lighting across the image.<br>\n",
        "Trying two different thresholds leads to:<br>\n",
        "- missing parts of the coins\n",
        "-meging the background with the coins"
      ]
    },
    {
      "cell_type": "code",
      "metadata": {
        "id": "bp8c1jft229s"
      },
      "source": [
        "fig, axes = plt.subplots(1, 2, figsize=(8, 3), sharey=True)\n",
        "\n",
        "axes[0].imshow(coins > 100, cmap=plt.cm.gray)\n",
        "axes[0].set_title('coins > 100')\n",
        "\n",
        "axes[1].imshow(coins > 150, cmap=plt.cm.gray)\n",
        "axes[1].set_title('coins > 150')\n",
        "\n",
        "for a in axes:\n",
        "    a.axis('off')\n",
        "\n",
        "plt.tight_layout()\n"
      ],
      "execution_count": null,
      "outputs": []
    },
    {
      "cell_type": "markdown",
      "metadata": {
        "id": "-N6tjdX3lim9"
      },
      "source": [
        "**Edge Detection**<br>\n",
        "Let's try to detect the edges that enclose the coins. For edge detection, we use the Canny detector of skimage.feature.canny<br>\n",
        "As the background is very smooth, almost all edges are found at the boundary of the coins, or inside the coins."
      ]
    },
    {
      "cell_type": "code",
      "metadata": {
        "id": "G9aaRNr525tp"
      },
      "source": [
        "from skimage.feature import canny\n",
        "\n",
        "edges = canny(coins)\n",
        "\n",
        "fig, ax = plt.subplots(figsize=(4, 3))\n",
        "ax.imshow(edges, cmap=plt.cm.gray)\n",
        "ax.set_title('Canny detector')\n",
        "ax.axis('off')\n"
      ],
      "execution_count": null,
      "outputs": []
    },
    {
      "cell_type": "markdown",
      "metadata": {
        "id": "s0j97IU7lsPU"
      },
      "source": [
        "Now that we have contours that delineate the outer boundary of the coins, we fill the inner part of the coins using the ndi.binary_fill_holes function."
      ]
    },
    {
      "cell_type": "code",
      "metadata": {
        "id": "6WklU7Ua29zA"
      },
      "source": [
        "from scipy import ndimage as ndi\n",
        "\n",
        "fill_coins = ndi.binary_fill_holes(edges)\n",
        "\n",
        "fig, ax = plt.subplots(figsize=(4, 3))\n",
        "ax.imshow(fill_coins, cmap=plt.cm.gray)\n",
        "ax.set_title('filling the holes')\n",
        "ax.axis('off')"
      ],
      "execution_count": null,
      "outputs": []
    },
    {
      "cell_type": "markdown",
      "metadata": {
        "id": "YOWrG6FYlw5I"
      },
      "source": [
        "Most coins are well segmented out of the background. Small objects from the background can be easily removed using the ndi.label function to remove objects smaller than a small threshold.<br>\n",
        "However, the segmentation is not very satisfying, since one of the coins has not been segmented correctly at all. The reason for this is the contour that we got from the Canny detector was not completely closed, therefore the filling function did not fill the inner part of the coin"
      ]
    },
    {
      "cell_type": "code",
      "metadata": {
        "id": "LREcnnIT3Abo"
      },
      "source": [
        "from skimage import morphology\n",
        "\n",
        "coins_cleaned = morphology.remove_small_objects(fill_coins, 21)\n",
        "\n",
        "fig, ax = plt.subplots(figsize=(4, 3))\n",
        "ax.imshow(coins_cleaned, cmap=plt.cm.gray)\n",
        "ax.set_title('removing small objects')\n",
        "ax.axis('off')"
      ],
      "execution_count": null,
      "outputs": []
    },
    {
      "cell_type": "markdown",
      "metadata": {
        "id": "oYECHdbumD2_"
      },
      "source": [
        "Therefore, this segmentation method is not very robust: if we miss a single pixel of the contour of the object, we will not be able to fill it. Of course, we could try to dilate the contours in order to close them.<br>\n",
        "Let's try a more robust method.\n",
        "\n"
      ]
    },
    {
      "cell_type": "markdown",
      "metadata": {
        "id": "o_zC4yExmLQH"
      },
      "source": [
        "# **Region-based segmentation**<br>\n",
        "Let us first determine markers of the coins and the background. These markers are pixels that we can label unambiguously as either object or background. Here, the markers are found at the two extreme parts of the histogram of grey values:"
      ]
    },
    {
      "cell_type": "code",
      "metadata": {
        "id": "IBu8bt3V3DHh"
      },
      "source": [
        "from skimage.filters import sobel\n",
        "\n",
        "elevation_map = sobel(coins)\n",
        "\n",
        "fig, ax = plt.subplots(figsize=(4, 3))\n",
        "ax.imshow(elevation_map, cmap=plt.cm.gray)\n",
        "ax.set_title('elevation map')\n",
        "ax.axis('off')"
      ],
      "execution_count": null,
      "outputs": []
    },
    {
      "cell_type": "markdown",
      "metadata": {
        "id": "uy7XgaucqO5H"
      },
      "source": [
        "Next we find markers of the background and the coins based on the extreme parts of the histogram of gray values."
      ]
    },
    {
      "cell_type": "code",
      "metadata": {
        "id": "FjJm5jW6mpjh"
      },
      "source": [
        "markers = np.zeros_like(coins)\n",
        "markers[coins < 30] = 1\n",
        "markers[coins > 150] = 2\n",
        "\n",
        "fig, ax = plt.subplots(figsize=(4, 3))\n",
        "ax.imshow(markers, cmap=plt.cm.nipy_spectral)\n",
        "ax.set_title('markers')\n",
        "ax.axis('off')"
      ],
      "execution_count": null,
      "outputs": []
    },
    {
      "cell_type": "markdown",
      "metadata": {
        "id": "WA2q8rjwqVxz"
      },
      "source": [
        "Finally, we use the watershed transform to fill regions of the elevation map starting from the markers determined above:"
      ]
    },
    {
      "cell_type": "code",
      "metadata": {
        "id": "nxkHu5ngna4t"
      },
      "source": [
        "from skimage import segmentation\n",
        "\n",
        "segmentation_coins = segmentation.watershed(elevation_map, markers)\n",
        "\n",
        "fig, ax = plt.subplots(figsize=(4, 3))\n",
        "ax.imshow(segmentation_coins, cmap=plt.cm.gray)\n",
        "ax.set_title('segmentation')\n",
        "ax.axis('off')"
      ],
      "execution_count": null,
      "outputs": []
    },
    {
      "cell_type": "markdown",
      "metadata": {
        "id": "1TfNi7-0qahj"
      },
      "source": [
        "This last method works even better, and the coins can be segmented and labeled individually."
      ]
    },
    {
      "cell_type": "code",
      "metadata": {
        "id": "B0DOuM1Mm87H"
      },
      "source": [
        "from skimage.color import label2rgb\n",
        "\n",
        "segmentation_coins = ndi.binary_fill_holes(segmentation_coins - 1)\n",
        "labeled_coins, _ = ndi.label(segmentation_coins)\n",
        "image_label_overlay = label2rgb(labeled_coins, image=coins, bg_label=0)\n",
        "\n",
        "fig, axes = plt.subplots(1, 2, figsize=(8, 3), sharey=True)\n",
        "axes[0].imshow(coins, cmap=plt.cm.gray)\n",
        "axes[0].contour(segmentation_coins, [0.5], linewidths=1.2, colors='y')\n",
        "axes[1].imshow(image_label_overlay)\n",
        "\n",
        "for a in axes:\n",
        "    a.axis('off')\n",
        "\n",
        "plt.tight_layout()\n",
        "\n",
        "plt.show()"
      ],
      "execution_count": null,
      "outputs": []
    }
  ]
}