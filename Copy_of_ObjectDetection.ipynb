{
  "nbformat": 4,
  "nbformat_minor": 0,
  "metadata": {
    "colab": {
      "name": "Copy of ObjectDetection.ipynb",
      "provenance": [],
      "private_outputs": true,
      "authorship_tag": "ABX9TyOgbkmOfdGJEcNLjaZ1UCWD",
      "include_colab_link": true
    },
    "kernelspec": {
      "name": "python3",
      "display_name": "Python 3"
    },
    "accelerator": "GPU"
  },
  "cells": [
    {
      "cell_type": "markdown",
      "metadata": {
        "id": "view-in-github",
        "colab_type": "text"
      },
      "source": [
        "<a href=\"https://colab.research.google.com/github/cagBRT/computer-vision/blob/master/Copy_of_ObjectDetection.ipynb\" target=\"_parent\"><img src=\"https://colab.research.google.com/assets/colab-badge.svg\" alt=\"Open In Colab\"/></a>"
      ]
    },
    {
      "cell_type": "markdown",
      "metadata": {
        "id": "0Vhy253OJ-Yb"
      },
      "source": [
        "https://www.cvlib.net/<br>\n",
        "\n",
        "https://github.com/arunponnusamy/cvlib/tree/master/examples"
      ]
    },
    {
      "cell_type": "markdown",
      "metadata": {
        "id": "DZHOlSvWxCaU"
      },
      "source": [
        "**Clone the openC github repo**"
      ]
    },
    {
      "cell_type": "code",
      "metadata": {
        "id": "MwFjE50Wy4qh"
      },
      "source": [
        "!git clone -l -s https://github.com/opencv/opencv.git \n",
        "!pwd"
      ],
      "execution_count": null,
      "outputs": []
    },
    {
      "cell_type": "markdown",
      "metadata": {
        "id": "52ytIL5WxJIx"
      },
      "source": [
        "**Clone the course git repo**"
      ]
    },
    {
      "cell_type": "code",
      "metadata": {
        "id": "J_lanJfdzs9R"
      },
      "source": [
        "!git clone -l -s https://github.com/cagBRT/computer-vision.git cloned-repo\n",
        "%cd cloned-repo\n",
        "!ls"
      ],
      "execution_count": null,
      "outputs": []
    },
    {
      "cell_type": "markdown",
      "metadata": {
        "id": "e5zhhNYPxOiV"
      },
      "source": [
        "**Import the required libraries**"
      ]
    },
    {
      "cell_type": "code",
      "metadata": {
        "id": "mX98olmsxUOs"
      },
      "source": [
        "import keras\n",
        "print(keras.__version__)"
      ],
      "execution_count": null,
      "outputs": []
    },
    {
      "cell_type": "code",
      "metadata": {
        "id": "gc8b46Ykuh1k"
      },
      "source": [
        "!pip3 install opencv-python tensorflow\n",
        "!pip3 install drawbox\n",
        "!pip install --upgrade cvlib"
      ],
      "execution_count": null,
      "outputs": []
    },
    {
      "cell_type": "code",
      "metadata": {
        "id": "xMVT_Wd24Bkk"
      },
      "source": [
        "import cv2\n",
        "import matplotlib.pyplot as plt\n",
        "import cvlib as cv\n",
        "from cvlib.object_detection import draw_bbox"
      ],
      "execution_count": null,
      "outputs": []
    },
    {
      "cell_type": "markdown",
      "metadata": {
        "id": "oog_FJMJxUdq"
      },
      "source": [
        "**Look at a photo to use as a sample**"
      ]
    },
    {
      "cell_type": "code",
      "metadata": {
        "id": "zC1aWSGcHBpM"
      },
      "source": [
        "im = cv2.imread('apple-256261_640.jpg')\n",
        "cv2_imshow(im)"
      ],
      "execution_count": null,
      "outputs": []
    },
    {
      "cell_type": "code",
      "metadata": {
        "id": "z3Z1ufuLejd8"
      },
      "source": [
        "#print(cv.detect_common_objects(im))\n",
        "#Bounding box coordinates, label, confidence\n",
        "bbox, label, conf = cv.detect_common_objects(im)\n",
        "print(bbox, label, conf)\n",
        "output_image = draw_bbox(im, bbox, label, conf)\n",
        "cv2_imshow(output_image)\n"
      ],
      "execution_count": null,
      "outputs": []
    },
    {
      "cell_type": "code",
      "metadata": {
        "id": "sdnND5ahHr5k"
      },
      "source": [
        "im = cv2.imread('fruitAndBooks.jpeg')\n",
        "cv2_imshow(im)"
      ],
      "execution_count": null,
      "outputs": []
    },
    {
      "cell_type": "code",
      "metadata": {
        "id": "kAoPlnzzHxcz"
      },
      "source": [
        "print(cv.detect_common_objects(im))\n",
        "#Bounding box coordinates, label, confidence\n",
        "bbox, label, conf = cv.detect_common_objects(im)\n",
        "output_image = draw_bbox(im, bbox, label, conf)\n",
        "cv2_imshow(output_image)"
      ],
      "execution_count": null,
      "outputs": []
    },
    {
      "cell_type": "code",
      "metadata": {
        "id": "vuJG4hzIIYXM"
      },
      "source": [
        "im = cv2.imread('apple-256261_640UpsideDown.jpg')\n",
        "cv2_imshow(im)"
      ],
      "execution_count": null,
      "outputs": []
    },
    {
      "cell_type": "code",
      "metadata": {
        "id": "-d0ey5WSIeyE"
      },
      "source": [
        "print(cv.detect_common_objects(im))\n",
        "#Bounding box coordinates, label, confidence\n",
        "bbox, label, conf = cv.detect_common_objects(im)\n",
        "output_image = draw_bbox(im, bbox, label, conf)\n",
        "cv2_imshow(output_image)"
      ],
      "execution_count": null,
      "outputs": []
    },
    {
      "cell_type": "code",
      "metadata": {
        "id": "8_ZGTcujwVKy"
      },
      "source": [
        "# import necessary packages\n",
        "import cvlib as cv\n",
        "from cvlib.object_detection import draw_bbox\n",
        "import sys\n",
        "import cv2\n",
        "from google.colab.patches import cv2_imshow\n",
        "\n",
        "# read input image\n",
        "image = cv2.imread('apple-256261_640UpsideDown.jpg')\n",
        "\n",
        "# apply object detection\n",
        "bbox, label, conf = cv.detect_common_objects(image)\n",
        "\n",
        "print(bbox, label, conf)\n",
        "\n",
        "# draw bounding box over detected objects\n",
        "out = draw_bbox(image, bbox, label, conf)\n",
        "\n",
        "# display output\n",
        "# press any key to close window           \n",
        "cv2_imshow(out)\n",
        "# save output\n",
        "cv2.imwrite(\"object_detection.jpg\", out)"
      ],
      "execution_count": null,
      "outputs": []
    }
  ]
}