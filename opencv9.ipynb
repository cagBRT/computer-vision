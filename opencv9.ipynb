{
  "nbformat": 4,
  "nbformat_minor": 0,
  "metadata": {
    "colab": {
      "name": "opencv9.ipynb",
      "provenance": [],
      "authorship_tag": "ABX9TyMZtqn7XEhhltxtvN48+/5O",
      "include_colab_link": true
    },
    "kernelspec": {
      "name": "python3",
      "display_name": "Python 3"
    }
  },
  "cells": [
    {
      "cell_type": "markdown",
      "metadata": {
        "id": "view-in-github",
        "colab_type": "text"
      },
      "source": [
        "<a href=\"https://colab.research.google.com/github/cagBRT/computer-vision/blob/master/opencv9.ipynb\" target=\"_parent\"><img src=\"https://colab.research.google.com/assets/colab-badge.svg\" alt=\"Open In Colab\"/></a>"
      ]
    },
    {
      "cell_type": "code",
      "metadata": {
        "id": "IGjU4J7zK6Rs",
        "colab_type": "code",
        "colab": {}
      },
      "source": [
        "# Clone the entire repo.\n",
        "!git clone -l -s https://github.com/cagBRT/computer-vision.git cloned-repo\n",
        "%cd cloned-repo\n",
        "!ls"
      ],
      "execution_count": null,
      "outputs": []
    },
    {
      "cell_type": "markdown",
      "metadata": {
        "id": "qDa22dmEQBLv",
        "colab_type": "text"
      },
      "source": [
        "# **Thresholding**"
      ]
    },
    {
      "cell_type": "markdown",
      "metadata": {
        "id": "YT9mXPq3jzH5",
        "colab_type": "text"
      },
      "source": [
        "Thresholding is the binarization of an image. In general, we seek to convert a grayscale image to a binary image, where the pixels are either 0 or 255."
      ]
    },
    {
      "cell_type": "markdown",
      "metadata": {
        "id": "hLDCj5SUj5pj",
        "colab_type": "text"
      },
      "source": [
        "Thresholding is used to focus on objects or areas of particular interest in an image."
      ]
    },
    {
      "cell_type": "markdown",
      "metadata": {
        "id": "cRFWWBX1j-CH",
        "colab_type": "text"
      },
      "source": [
        "Applying simple thresholding methods requires human intervention. The threshold value T must be specified. <br>\n",
        "All pixel intensities below T are set to 0. And all pixel intensities greater than T are set to 255.<br><br>\n",
        "\n",
        "The inverse of this binarization is done by setting all pixels below T to 255 and all pixel intensities greater than T to 0."
      ]
    },
    {
      "cell_type": "code",
      "metadata": {
        "id": "-pgc9SvUvxGj",
        "colab_type": "code",
        "colab": {}
      },
      "source": [
        "!pip install mahotas"
      ],
      "execution_count": null,
      "outputs": []
    },
    {
      "cell_type": "code",
      "metadata": {
        "id": "OFGH4maFjtX7",
        "colab_type": "code",
        "colab": {}
      },
      "source": [
        "import numpy as np\n",
        "import mahotas\n",
        "import cv2\n",
        "from google.colab.patches import cv2_imshow"
      ],
      "execution_count": null,
      "outputs": []
    },
    {
      "cell_type": "markdown",
      "metadata": {
        "id": "dffTRQb0Lx9q",
        "colab_type": "text"
      },
      "source": [
        "Blur the image"
      ]
    },
    {
      "cell_type": "code",
      "metadata": {
        "id": "t9xRhYtwkHQq",
        "colab_type": "code",
        "colab": {}
      },
      "source": [
        "image = cv2.imread(\"images/coins.jpeg\")\n",
        "image = cv2.cvtColor(image, cv2.COLOR_BGR2GRAY)\n",
        "#Blue the image\n",
        "blurred = cv2.GaussianBlur(image, (5, 5), 0)\n",
        "cv2_imshow(image)"
      ],
      "execution_count": null,
      "outputs": []
    },
    {
      "cell_type": "markdown",
      "metadata": {
        "id": "AAbOALX7N7Ty",
        "colab_type": "text"
      },
      "source": [
        "# **Assignment 1**\n",
        "Use images/jacks.jpg, convert it to grayscale, then blur the image. "
      ]
    },
    {
      "cell_type": "code",
      "metadata": {
        "id": "Xm86_RTlNO8t",
        "colab_type": "code",
        "colab": {}
      },
      "source": [
        "#Assignment 1"
      ],
      "execution_count": null,
      "outputs": []
    },
    {
      "cell_type": "markdown",
      "metadata": {
        "id": "x5zDYFpPL2UX",
        "colab_type": "text"
      },
      "source": [
        "Set the threshold value and use the blurred image."
      ]
    },
    {
      "cell_type": "code",
      "metadata": {
        "id": "bqPigUAIkqGi",
        "colab_type": "code",
        "colab": {}
      },
      "source": [
        "(T, thresh) = cv2.threshold(blurred, 155, 255, cv2.THRESH_BINARY)\n",
        "#binarization with threshold\n",
        "cv2_imshow(thresh)"
      ],
      "execution_count": null,
      "outputs": []
    },
    {
      "cell_type": "markdown",
      "metadata": {
        "id": "kOOirEYmOMN1",
        "colab_type": "text"
      },
      "source": [
        "# **Assignment 2**\n",
        "Set the threshold on the blurred image of images/jacks.jpg"
      ]
    },
    {
      "cell_type": "code",
      "metadata": {
        "id": "b7gkcFRKNgqD",
        "colab_type": "code",
        "colab": {}
      },
      "source": [
        "#Assignment 2"
      ],
      "execution_count": null,
      "outputs": []
    },
    {
      "cell_type": "markdown",
      "metadata": {
        "id": "0WzrqKzQL91O",
        "colab_type": "text"
      },
      "source": [
        "Invert the thresholded/blurred image"
      ]
    },
    {
      "cell_type": "code",
      "metadata": {
        "id": "tXWbjawoLSdv",
        "colab_type": "code",
        "colab": {}
      },
      "source": [
        "#inverse the binarization\n",
        "(T, threshInv) = cv2.threshold(blurred, 155, 255, cv2.THRESH_BINARY_INV)\n",
        "cv2_imshow(threshInv) \n",
        "#mask and inverse the binarization\n",
        "cv2_imshow(cv2.bitwise_and(image, image, mask = threshInv))"
      ],
      "execution_count": null,
      "outputs": []
    },
    {
      "cell_type": "markdown",
      "metadata": {
        "id": "8Ycev9MfOaGM",
        "colab_type": "text"
      },
      "source": [
        "# **Assignment 3**\n",
        "Using images/jacks.jpg inverse the binarization and mask the image with it"
      ]
    },
    {
      "cell_type": "code",
      "metadata": {
        "id": "6GqHb6XZNrRj",
        "colab_type": "code",
        "colab": {}
      },
      "source": [
        "#Assignment 3"
      ],
      "execution_count": null,
      "outputs": []
    },
    {
      "cell_type": "markdown",
      "metadata": {
        "id": "_aqLd0X8lgjP",
        "colab_type": "text"
      },
      "source": [
        "# **Adaptive Thresholding**"
      ]
    },
    {
      "cell_type": "markdown",
      "metadata": {
        "id": "1hLoDJWQlam-",
        "colab_type": "text"
      },
      "source": [
        "One of the downsides of using simple thresholding methods is that we need to manually supply our threshold value T. <br>\n",
        "Not only does finding a good value of T require a lot of manual experiments and parameter tunings, it’s not very helpful if the image exhibits a lot of range in pixel intensities."
      ]
    },
    {
      "cell_type": "markdown",
      "metadata": {
        "id": "qxS7_wsxl-HR",
        "colab_type": "text"
      },
      "source": [
        "Use the cv2.adaptiveThreshold instead of manually setting the threshold.  \n",
        "\n",
        "The first parameter is the image we want to threshold. <br>\n",
        "Then,the maximum value of 255, similar to simple thresholding mentioned above.\n",
        "The third argument is to compute the threshold for the current neighborhood of pixels. <br>\n",
        "By supplying cv2.ADAPTIVE_THRESH_MEAN_C, we indicate that we want to compute the mean of the neighborhood of pixels and treat it as our T value."
      ]
    },
    {
      "cell_type": "markdown",
      "metadata": {
        "id": "y_9_GL16mSAh",
        "colab_type": "text"
      },
      "source": [
        "Choosing between mean adaptive thresholding and Gaussian adaptive thresholding requires a few ex- periments on your end. <br>\n",
        "The most important parameters to vary are the neighborhood size and C, the value you subtract from the mean."
      ]
    },
    {
      "cell_type": "code",
      "metadata": {
        "id": "O-UJiNKvld6A",
        "colab_type": "code",
        "colab": {}
      },
      "source": [
        "image = cv2.imread(\"images/coins.jpeg\")\n",
        "image = cv2.cvtColor(image, cv2.COLOR_BGR2GRAY)\n",
        "blurred = cv2.GaussianBlur(image, (5, 5), 0)\n",
        "cv2_imshow(image)\n",
        "\n"
      ],
      "execution_count": null,
      "outputs": []
    },
    {
      "cell_type": "markdown",
      "metadata": {
        "id": "TkZ_gVpYOu9s",
        "colab_type": "text"
      },
      "source": [
        "# **Assignment 4**\n",
        "Using images/jacks.jpg, convert it to grayscale and blur it. "
      ]
    },
    {
      "cell_type": "code",
      "metadata": {
        "id": "HfRvHzvgO-aM",
        "colab_type": "code",
        "colab": {}
      },
      "source": [
        "#Assignment 4"
      ],
      "execution_count": null,
      "outputs": []
    },
    {
      "cell_type": "code",
      "metadata": {
        "id": "SX3NVDzALbJy",
        "colab_type": "code",
        "colab": {}
      },
      "source": [
        "thresh = cv2.adaptiveThreshold(blurred, 255,\n",
        "cv2.ADAPTIVE_THRESH_MEAN_C, cv2.THRESH_BINARY_INV, 11, 4)\n",
        "cv2_imshow( thresh)\n"
      ],
      "execution_count": null,
      "outputs": []
    },
    {
      "cell_type": "markdown",
      "metadata": {
        "id": "1hf3oT_2PK5p",
        "colab_type": "text"
      },
      "source": [
        "# **Assignment 5**\n",
        "Apply the adaptive threshold mean to images/jacks.jpg"
      ]
    },
    {
      "cell_type": "code",
      "metadata": {
        "id": "R1G30shBPZPd",
        "colab_type": "code",
        "colab": {}
      },
      "source": [
        "#Assignment 5\n"
      ],
      "execution_count": null,
      "outputs": []
    },
    {
      "cell_type": "code",
      "metadata": {
        "id": "fEORCy6wLd8z",
        "colab_type": "code",
        "colab": {}
      },
      "source": [
        "#Gaussian thresholding\n",
        "thresh = cv2.adaptiveThreshold(blurred, 255,\n",
        "cv2.ADAPTIVE_THRESH_GAUSSIAN_C, cv2.THRESH_BINARY_INV, 15, 3)\n",
        "cv2_imshow(thresh)"
      ],
      "execution_count": null,
      "outputs": []
    },
    {
      "cell_type": "markdown",
      "metadata": {
        "id": "fVV--gpePcoR",
        "colab_type": "text"
      },
      "source": [
        "# **Assignment 6**\n",
        "Apply the Adaptive Gaussian threshold to images/jacks.jpg"
      ]
    },
    {
      "cell_type": "code",
      "metadata": {
        "id": "yf8843KePn72",
        "colab_type": "code",
        "colab": {}
      },
      "source": [
        "#Assignment 6\n"
      ],
      "execution_count": null,
      "outputs": []
    },
    {
      "cell_type": "markdown",
      "metadata": {
        "id": "DqzNpx3mP38v",
        "colab_type": "text"
      },
      "source": [
        "# **Otsu's Method**"
      ]
    },
    {
      "cell_type": "markdown",
      "metadata": {
        "id": "WdemEKI4vRs4",
        "colab_type": "text"
      },
      "source": [
        "Another way we can automatically compute the threshold value of T is to use Otsu’s method.\n"
      ]
    },
    {
      "cell_type": "markdown",
      "metadata": {
        "id": "zoU6nMWnvUty",
        "colab_type": "text"
      },
      "source": [
        "Otsu’s method assumes there are two peaks in the grayscale histogram of the image. It then tries to find an optimal value to separate these two peaks – thus our value of T."
      ]
    },
    {
      "cell_type": "code",
      "metadata": {
        "id": "-Yis0YfOvZw0",
        "colab_type": "code",
        "colab": {}
      },
      "source": [
        "image = cv2.imread(\"images/coins.jpeg\")\n",
        "image = cv2.cvtColor(image, cv2.COLOR_BGR2GRAY)\n",
        "blurred = cv2.GaussianBlur(image, (5, 5), 0)\n",
        "cv2_imshow(image)\n",
        "T = mahotas.thresholding.otsu(blurred)\n",
        "print(\"Otsu’s threshold: {}\".format(T))"
      ],
      "execution_count": null,
      "outputs": []
    },
    {
      "cell_type": "code",
      "metadata": {
        "id": "YJZiun_ov52R",
        "colab_type": "code",
        "colab": {}
      },
      "source": [
        "thresh = image.copy()\n",
        "#Any values greater than the threshold, make white\n",
        "thresh[thresh > T] = 255\n",
        "#All other values are made 0\n",
        "thresh[thresh < 255] = 0\n",
        "#invert the threshold\n",
        "thresh = cv2.bitwise_not(thresh)\n",
        "cv2_imshow(thresh)\n",
        "\n"
      ],
      "execution_count": null,
      "outputs": []
    },
    {
      "cell_type": "code",
      "metadata": {
        "id": "GXaW4gEsLlpY",
        "colab_type": "code",
        "colab": {}
      },
      "source": [
        "T = mahotas.thresholding.rc(blurred)\n",
        "print(\"Riddler-Calvard: {}\".format(T))\n",
        "thresh = image.copy()\n",
        "thresh[thresh > T] = 255\n",
        "thresh[thresh < 255] = 0\n",
        "thresh = cv2.bitwise_not(thresh)\n",
        "cv2_imshow(thresh)"
      ],
      "execution_count": null,
      "outputs": []
    },
    {
      "cell_type": "markdown",
      "metadata": {
        "id": "ydLDHZUQPr91",
        "colab_type": "text"
      },
      "source": [
        "# **Assignment 7**\n",
        "Apply Otsu's method to images/jacks.jpg"
      ]
    },
    {
      "cell_type": "code",
      "metadata": {
        "id": "LIFFex0wP1PR",
        "colab_type": "code",
        "colab": {}
      },
      "source": [
        "#Assignment 7\n"
      ],
      "execution_count": null,
      "outputs": []
    }
  ]
}