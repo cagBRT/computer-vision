{
  "nbformat": 4,
  "nbformat_minor": 0,
  "metadata": {
    "colab": {
      "name": "pedestrians.ipynb",
      "provenance": [],
      "private_outputs": true,
      "authorship_tag": "ABX9TyPfhiQYzAmwfQT7MHD3GbKN",
      "include_colab_link": true
    },
    "kernelspec": {
      "name": "python3",
      "display_name": "Python 3"
    }
  },
  "cells": [
    {
      "cell_type": "markdown",
      "metadata": {
        "id": "view-in-github",
        "colab_type": "text"
      },
      "source": [
        "<a href=\"https://colab.research.google.com/github/cagBRT/computer-vision/blob/master/pedestrians.ipynb\" target=\"_parent\"><img src=\"https://colab.research.google.com/assets/colab-badge.svg\" alt=\"Open In Colab\"/></a>"
      ]
    },
    {
      "cell_type": "code",
      "metadata": {
        "id": "ANySGJbf_Ben",
        "colab_type": "code",
        "colab": {}
      },
      "source": [
        "!git clone -l -s https://github.com/opencv/opencv.git \n",
        "!pwd"
      ],
      "execution_count": null,
      "outputs": []
    },
    {
      "cell_type": "code",
      "metadata": {
        "id": "FXRswFdm_bqE",
        "colab_type": "code",
        "colab": {}
      },
      "source": [
        "!git clone -l -s https://github.com/cagBRT/computer-vision.git cloned-repo\n",
        "%cd cloned-repo\n",
        "!ls"
      ],
      "execution_count": null,
      "outputs": []
    },
    {
      "cell_type": "code",
      "metadata": {
        "id": "cAioTOeN94Z9",
        "colab_type": "code",
        "colab": {}
      },
      "source": [
        "# import the necessary packages\n",
        "from __future__ import print_function\n",
        "import numpy as np\n",
        "import cv2\n",
        "from google.colab.patches import cv2_imshow\n"
      ],
      "execution_count": null,
      "outputs": []
    },
    {
      "cell_type": "code",
      "metadata": {
        "id": "KkkW6LPa-aEI",
        "colab_type": "code",
        "colab": {}
      },
      "source": [
        "# initialize the HOG descriptor/person detector\n",
        "hog = cv2.HOGDescriptor()\n",
        "hog.setSVMDetector(cv2.HOGDescriptor_getDefaultPeopleDetector())"
      ],
      "execution_count": null,
      "outputs": []
    },
    {
      "cell_type": "code",
      "metadata": {
        "id": "PW9GJmMsCkYM",
        "colab_type": "code",
        "colab": {}
      },
      "source": [
        "!cd /content/cloned-repo\n",
        "%ls"
      ],
      "execution_count": null,
      "outputs": []
    },
    {
      "cell_type": "code",
      "metadata": {
        "id": "XGSybcQr_4Hf",
        "colab_type": "code",
        "colab": {}
      },
      "source": [
        "image = cv2.imread(\"cloned-repo/cloned-repo/images/manyWalkers.jpg\")\n",
        "cv2_imshow(image)"
      ],
      "execution_count": null,
      "outputs": []
    },
    {
      "cell_type": "code",
      "metadata": {
        "id": "RlOR8qRLAU8s",
        "colab_type": "code",
        "colab": {}
      },
      "source": [
        "# loop over the image paths\n",
        "#for imagePath in paths.list_images(\"images/walkers.jpeg\"):\n",
        "\t# load the image and resize it to (1) reduce detection time\n",
        "\t# and (2) improve detection accuracy\n",
        "imagePath = \"images/walkers.jpeg\"\n",
        "image = cv2.imread(imagePath)\n",
        "image = imutils.resize(image, width=min(400, image.shape[1]))\n",
        "orig = image.copy()\n",
        "\t# detect people in the image\n",
        "(rects, weights) = hog.detectMultiScale(image, \n",
        "                                        winStride=(4, 4),\n",
        "                                        padding=(8, 8), \n",
        "                                        scale=1.01)\n",
        "\t# draw the original bounding boxes\n",
        "for (x, y, w, h) in rects:\n",
        "\t\tcv2.rectangle(orig, (x, y), (x + w, y + h), (0, 0, 255), 2)\n",
        "\t# apply non-maxima suppression to the bounding boxes using a\n",
        "\t# fairly large overlap threshold to try to maintain overlapping\n",
        "\t# boxes that are still people\n",
        "rects = np.array([[x, y, x + w, y + h] for (x, y, w, h) in rects])\n",
        "pick = non_max_suppression(rects, probs=None, overlapThresh=0.65)\n",
        "\t# draw the final bounding boxes\n",
        "for (xA, yA, xB, yB) in pick:\n",
        "\tcv2.rectangle(image, (xA, yA), (xB, yB), (0, 255, 0), 2)\n",
        "\t# show some information on the number of bounding boxes\n",
        "filename = imagePath[imagePath.rfind(\"/\") + 1:]\n",
        "print(\"[INFO] {}: {} original boxes, {} after suppression\".format(\n",
        "\t\tfilename, len(rects), len(pick)))\n",
        "\t# show the output images\n",
        "cv2_imshow(orig)\n",
        "cv2_imshow( image)"
      ],
      "execution_count": null,
      "outputs": []
    }
  ]
}