{
  "nbformat": 4,
  "nbformat_minor": 0,
  "metadata": {
    "colab": {
      "name": "pedestrians.ipynb",
      "provenance": [],
      "private_outputs": true,
      "authorship_tag": "ABX9TyOM3E83sHmgGgxkyGBUuedR",
      "include_colab_link": true
    },
    "kernelspec": {
      "name": "python3",
      "display_name": "Python 3"
    }
  },
  "cells": [
    {
      "cell_type": "markdown",
      "metadata": {
        "id": "view-in-github",
        "colab_type": "text"
      },
      "source": [
        "<a href=\"https://colab.research.google.com/github/cagBRT/computer-vision/blob/master/pedestrians.ipynb\" target=\"_parent\"><img src=\"https://colab.research.google.com/assets/colab-badge.svg\" alt=\"Open In Colab\"/></a>"
      ]
    },
    {
      "cell_type": "code",
      "metadata": {
        "id": "ANySGJbf_Ben",
        "colab_type": "code",
        "colab": {}
      },
      "source": [
        "!git clone -l -s https://github.com/opencv/opencv.git \n",
        "!pwd"
      ],
      "execution_count": null,
      "outputs": []
    },
    {
      "cell_type": "code",
      "metadata": {
        "id": "FXRswFdm_bqE",
        "colab_type": "code",
        "colab": {}
      },
      "source": [
        "!git clone -l -s https://github.com/cagBRT/computer-vision.git cloned-repo\n",
        "%cd cloned-repo\n",
        "!ls"
      ],
      "execution_count": null,
      "outputs": []
    },
    {
      "cell_type": "code",
      "metadata": {
        "id": "IkSSmGAHI_ql",
        "colab_type": "code",
        "colab": {}
      },
      "source": [
        "!pip install --upgrade imutils"
      ],
      "execution_count": null,
      "outputs": []
    },
    {
      "cell_type": "code",
      "metadata": {
        "id": "cAioTOeN94Z9",
        "colab_type": "code",
        "colab": {}
      },
      "source": [
        "# import the necessary packages\n",
        "from __future__ import print_function\n",
        "import numpy as np\n",
        "import cv2\n",
        "from google.colab.patches import cv2_imshow\n",
        "from imutils import paths\n",
        "from imutils.object_detection import non_max_suppression"
      ],
      "execution_count": null,
      "outputs": []
    },
    {
      "cell_type": "markdown",
      "metadata": {
        "id": "mp9ugedBMA4f",
        "colab_type": "text"
      },
      "source": [
        "initialize the pedestrian detector. First, we make a call to hog = cv2.HOGDescriptor()  which initializes the Histogram of Oriented Gradients descriptor. Then, we call the setSVMDetector  to set the Support Vector Machine to be pre-trained pedestrian detector, loaded via the cv2.HOGDescriptor_getDefaultPeopleDetector()  function."
      ]
    },
    {
      "cell_type": "code",
      "metadata": {
        "id": "KkkW6LPa-aEI",
        "colab_type": "code",
        "colab": {}
      },
      "source": [
        "# initialize the HOG descriptor/person detector\n",
        "hog = cv2.HOGDescriptor()\n",
        "hog.setSVMDetector(cv2.HOGDescriptor_getDefaultPeopleDetector())"
      ],
      "execution_count": null,
      "outputs": []
    },
    {
      "cell_type": "code",
      "metadata": {
        "id": "XGSybcQr_4Hf",
        "colab_type": "code",
        "colab": {}
      },
      "source": [
        "image = cv2.imread(\"images/family.jpg\")\n",
        "cv2_imshow(image)"
      ],
      "execution_count": null,
      "outputs": []
    },
    {
      "cell_type": "code",
      "metadata": {
        "id": "_ngxvuYfRWMK",
        "colab_type": "code",
        "colab": {}
      },
      "source": [
        "imagePath = \"images/family.jpg\"\n",
        "image = cv2.imread(imagePath)"
      ],
      "execution_count": null,
      "outputs": []
    },
    {
      "cell_type": "markdown",
      "metadata": {
        "id": "QeqQ6MYXMTQD",
        "colab_type": "text"
      },
      "source": [
        "**loading our image off disk and resizing it to have a maximum width of 400 pixels**. The reason we attempt to reduce our image dimensions is two-fold:"
      ]
    },
    {
      "cell_type": "markdown",
      "metadata": {
        "id": "wCVra1NoMYkA",
        "colab_type": "text"
      },
      "source": [
        "1. **Reducing image size ensures that less sliding windows in the image pyramid need to be evaluated** (i.e., have HOG features extracted from and then passed on to the Linear SVM), thus reducing detection time (and increasing overall detection throughput).<br>\n",
        "2. **Resizing our image also improves the overall accuracy of our pedestrian detection** (i.e., less false-positives)."
      ]
    },
    {
      "cell_type": "code",
      "metadata": {
        "id": "BecPpoZiG7gs",
        "colab_type": "code",
        "colab": {}
      },
      "source": [
        "#Resize\n",
        "scale_percent = 80 # percent of original size\n",
        "width = int(image.shape[1] * scale_percent / 100)\n",
        "height = int(image.shape[0] * scale_percent / 100)\n",
        "dim = (width, height)\n",
        "orig = image.copy()\n",
        "# resize image\n",
        "image = cv2_imshow(image)"
      ],
      "execution_count": null,
      "outputs": []
    },
    {
      "cell_type": "code",
      "metadata": {
        "id": "Njjp6PV6SSfF",
        "colab_type": "code",
        "colab": {}
      },
      "source": [
        "\n",
        "\t# detect people in the image\n",
        "(rects, weights) = hog.detectMultiScale(image, \n",
        "                                        winStride=(4, 4),\n",
        "                                        padding=(8, 8), \n",
        "                                        scale=1.01)\n",
        "\n",
        "\t# draw the original bounding boxes\n",
        "for (x, y, w, h) in rects:\n",
        "\t\tcv2.rectangle(orig, (x, y), (x + w, y + h), (0, 0, 255), 2)\n",
        "\t# apply non-maxima suppression to the bounding boxes using a\n",
        "\t# fairly large overlap threshold to try to maintain overlapping\n",
        "\t# boxes that are still people\n",
        "rects = np.array([[x, y, x + w, y + h] for (x, y, w, h) in rects])\n",
        "pick = non_max_suppression(rects, probs=None, overlapThresh=0.65)\n",
        "\t# draw the final bounding boxes\n",
        "for (xA, yA, xB, yB) in pick:\n",
        "\tcv2.rectangle(image, (xA, yA), (xB, yB), (0, 255, 0), 2)\n",
        "\t# show some information on the number of bounding boxes\n",
        "filename = imagePath[imagePath.rfind(\"/\") + 1:]\n",
        "print(\"[INFO] {}: {} original boxes, {} after suppression\".format(\n",
        "\t\tfilename, len(rects), len(pick)))\n",
        "\t# show the output images\n",
        "cv2_imshow(orig)\n",
        "cv2_imshow( image)"
      ],
      "execution_count": null,
      "outputs": []
    }
  ]
}