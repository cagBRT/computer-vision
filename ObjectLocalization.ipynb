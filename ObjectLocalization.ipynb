{
  "nbformat": 4,
  "nbformat_minor": 0,
  "metadata": {
    "colab": {
      "name": "ObjectLocalization.ipynb",
      "provenance": [],
      "private_outputs": true,
      "collapsed_sections": [],
      "authorship_tag": "ABX9TyORYI4JK0kodMWgP48G71KZ",
      "include_colab_link": true
    },
    "kernelspec": {
      "name": "python3",
      "display_name": "Python 3"
    },
    "accelerator": "GPU"
  },
  "cells": [
    {
      "cell_type": "markdown",
      "metadata": {
        "id": "view-in-github",
        "colab_type": "text"
      },
      "source": [
        "<a href=\"https://colab.research.google.com/github/cagBRT/computer-vision/blob/master/ObjectLocalization.ipynb\" target=\"_parent\"><img src=\"https://colab.research.google.com/assets/colab-badge.svg\" alt=\"Open In Colab\"/></a>"
      ]
    },
    {
      "cell_type": "code",
      "metadata": {
        "id": "DqWR9zgfV3ry"
      },
      "source": [
        "!git clone -l -s https://github.com/cagBRT/computer-vision.git cloned-repo\n",
        "%cd cloned-repo\n",
        "!ls"
      ],
      "execution_count": null,
      "outputs": []
    },
    {
      "cell_type": "markdown",
      "metadata": {
        "id": "n7f1Ki0xM1LO"
      },
      "source": [
        "https://medium.com/analytics-vidhya/object-localization-using-keras-d78d6810d0be\n"
      ]
    },
    {
      "cell_type": "code",
      "metadata": {
        "id": "yNYcx5eTL0ud"
      },
      "source": [
        " %tensorflow_version 2.x\n",
        " import tensorflow as tf\n",
        "from matplotlib import pyplot as plt\n",
        "from tensorflow.keras.layers import Flatten, Dense\n",
        "from tensorflow.keras.optimizers import Adam\n",
        "from tensorflow.keras.models import Model\n",
        "import numpy as np\n",
        "from tensorflow.keras.utils import  plot_model\n",
        "import matplotlib.pyplot as plt\n",
        "\n",
        "BATCH_SIZE = 64\n",
        "EPOCH_SIZE = 64"
      ],
      "execution_count": null,
      "outputs": []
    },
    {
      "cell_type": "code",
      "metadata": {
        "id": "f5qhOobMMgtp"
      },
      "source": [
        "# transfer learning - load pre-trained vgg and replace its head\n",
        "vgg = tf.keras.applications.VGG16(input_shape=[128, 128, 3], include_top=False, weights='imagenet')\n",
        "x = Flatten()(vgg.output)\n",
        "x = Dense(3, activation='sigmoid')(x)\n",
        "model1 = Model(vgg.input, x)\n",
        "model1.compile(loss='binary_crossentropy', optimizer=Adam(lr=0.001))\n",
        "# plot the model\n",
        "plot_model(model1, \"first_model.png\",show_shapes=True,expand_nested=False)"
      ],
      "execution_count": null,
      "outputs": []
    },
    {
      "cell_type": "code",
      "metadata": {
        "id": "DE8FZVW-Mmne"
      },
      "source": [
        "from matplotlib.patches import Circle\n",
        "\n",
        "def synthetic_gen(batch_size=64):\n",
        "  # enable generating infinite amount of batches\n",
        "  while True:\n",
        "      # generate black images in the wanted size\n",
        "      X = np.zeros((batch_size, 128, 128, 3))\n",
        "      Y = np.zeros((batch_size, 3))\n",
        "      # fill each image\n",
        "      for i in range(batch_size):\n",
        "        x = np.random.randint(8,120)\n",
        "        y = np.random.randint(8,120)\n",
        "        a = min(128 - max(x,y), min(x,y))\n",
        "        r = np.random.randint(4,a)\n",
        "        for x_i in range(128):\n",
        "          for y_i in range(128):\n",
        "            if ((x_i - x)**2) + ((y_i - y)**2) < r**2:\n",
        "              X[i, x_i, y_i,:] = 1\n",
        "        Y[i,0] = (x-r)/128.\n",
        "        Y[i,1] = (y-r)/128.\n",
        "        Y[i,2] = 2*r / 128.\n",
        "      yield X, Y\n",
        "\n",
        "# sanity check - plot the images\n",
        "x,y = next(synthetic_gen())\n",
        "plt.imshow(x[0])"
      ],
      "execution_count": null,
      "outputs": []
    },
    {
      "cell_type": "code",
      "metadata": {
        "id": "CDkivTChMq8x"
      },
      "source": [
        "# needs steps per epoch since the generator is infinite\n",
        "model1.fit_generator(synthetic_gen(),steps_per_epoch=EPOCH_SIZE,epochs=5)"
      ],
      "execution_count": null,
      "outputs": []
    },
    {
      "cell_type": "code",
      "metadata": {
        "id": "U8j2h235UtEZ"
      },
      "source": [
        "from matplotlib.patches import Rectangle\n",
        "\n",
        "# given image and a label, plots the image + rectangle\n",
        "def plot_pred(img,p):\n",
        "  fig, ax = plt.subplots(1)\n",
        "  ax.imshow(img)\n",
        "  rect = Rectangle(xy=(p[1]*128,p[0]*128),width=p[2]*128, height=p[2]*128, linewidth=1,edgecolor='g',facecolor='none')\n",
        "  ax.add_patch(rect)\n",
        "  plt.show()\n",
        "\n",
        "\n",
        "# generate new image\n",
        "x, _ = next(synthetic_gen())\n",
        "# predict\n",
        "pred = model1.predict(x)\n",
        "# examine 1 image\n",
        "im = x[0]\n",
        "p = pred[0]\n",
        "plot_pred(im,p)"
      ],
      "execution_count": null,
      "outputs": []
    },
    {
      "cell_type": "markdown",
      "metadata": {
        "id": "QfwWhyqTUwzC"
      },
      "source": [
        "Cat Images"
      ]
    },
    {
      "cell_type": "code",
      "metadata": {
        "id": "wzP4uPhOUybV"
      },
      "source": [
        "from PIL import Image\n",
        "from matplotlib.patches import Circle\n",
        "\n",
        "cat_pil = Image.open(\"cat.png\")\n",
        "cat_pil = cat_pil.resize((64,64))\n",
        "cat = np.asarray(cat_pil)\n",
        "\n",
        "def cat_gen(batch_size=64):\n",
        "  # enable generating infinite amount of batches\n",
        "  while True:\n",
        "      # generate black images in the wanted size\n",
        "      X = np.zeros((batch_size, 128, 128, 3))\n",
        "      Y = np.zeros((batch_size, 3))\n",
        "      # fill each image\n",
        "      for i in range(batch_size):\n",
        "        # resize the cat\n",
        "        size = np.random.randint(32,64)\n",
        "        temp_cat = cat_pil.resize((size,size))\n",
        "        cat = np.asarray(temp_cat) / 255.\n",
        "        cat_x, cat_y, _ = cat.shape\n",
        "        # create a blank background image\n",
        "        bg = Image.new('RGB', (128, 128))\n",
        "        # generate \n",
        "        x1 = np.random.randint(1,128 - cat_x)\n",
        "        y1 = np.random.randint(1,128 - cat_y)\n",
        "        # paste the cat over the image\n",
        "        bg.paste(temp_cat, (x1, y1))\n",
        "        cat = np.asarray(bg) / 255. # transform into a np array\n",
        "        X[i] = cat\n",
        "\n",
        "        Y[i,0] = x1/128.\n",
        "        Y[i,1] = y1/128.\n",
        "        Y[i,2] = cat_x / 128.\n",
        "      yield X, Y\n",
        "\n",
        "# plot the images\n",
        "x,y = next(cat_gen())\n",
        "plt.imshow(x[0])"
      ],
      "execution_count": null,
      "outputs": []
    },
    {
      "cell_type": "code",
      "metadata": {
        "id": "ofQKMkvdWOzn"
      },
      "source": [
        "# transfer learning - load pre-trained vgg and replace its head\n",
        "vgg = tf.keras.applications.VGG16(input_shape=[128, 128, 3], include_top=False, weights='imagenet')\n",
        "x = Flatten()(vgg.output)\n",
        "x = Dense(3, activation='sigmoid')(x)\n",
        "model2 = Model(vgg.input, x)\n",
        "model2.compile(loss='binary_crossentropy', optimizer=Adam(lr=0.001))\n",
        "# plot the model\n",
        "plot_model(model2, \"second_model.png\",show_shapes=True)\n",
        "\n",
        "# needs steps per epoch since the generator is infinite\n",
        "model2.fit_generator(cat_gen(),steps_per_epoch=EPOCH_SIZE,epochs=5)\n",
        "\n",
        "from matplotlib.patches import Rectangle\n",
        "\n",
        "# given image and a label, plots the image + rectangle\n",
        "def plot_pred(img,p):\n",
        "  fig, ax = plt.subplots(1)\n",
        "  ax.imshow(img)\n",
        "  rect = Rectangle(xy=(p[0]*128,p[1]*128),width=p[2]*128, height=p[2]*128, linewidth=1,edgecolor='g',facecolor='none')\n",
        "  ax.add_patch(rect)\n",
        "  plt.show()\n",
        "\n",
        "\n",
        "# generate new image\n",
        "x, _ = next(cat_gen())\n",
        "# predict\n",
        "pred = model2.predict(x)\n",
        "# examine 1 image\n",
        "im = x[0]\n",
        "p = pred[0]\n",
        "plot_pred(im,p)"
      ],
      "execution_count": null,
      "outputs": []
    },
    {
      "cell_type": "code",
      "metadata": {
        "id": "InmsM4GeWoVB"
      },
      "source": [
        "from PIL import Image\n",
        "\n",
        "cat_pil = Image.open(\"cat.png\")\n",
        "cat_pil = cat_pil.resize((64,64))\n",
        "cat = np.asarray(cat_pil)\n",
        "\n",
        "def natural_cat_gen(batch_size=64):\n",
        "  # enable generating infinite amount of batches\n",
        "  while True:\n",
        "      # generate black images in the wanted size\n",
        "      X = np.zeros((batch_size, 128, 128, 3))\n",
        "      Y = np.zeros((batch_size, 3))\n",
        "      # fill each image\n",
        "      for i in range(batch_size):\n",
        "        # resize the cat\n",
        "        size = np.random.randint(32,64)\n",
        "        temp_cat = cat_pil.resize((size,size))\n",
        "        cat = np.asarray(temp_cat) / 255.\n",
        "        cat_x, cat_y, _ = cat.shape\n",
        "        # background image\n",
        "        bg_name = f'landscape3small.jpg'\n",
        "        bg = Image.open(bg_name)\n",
        "\n",
        "        x1 = np.random.randint(1,128 - cat_x)\n",
        "        y1 = np.random.randint(1,128 - cat_y)\n",
        "        h = cat_x\n",
        "        w = cat_y\n",
        "        # draw the cat over the selected background image\n",
        "        bg.paste(temp_cat, (x1, y1),mask=temp_cat)\n",
        "        cat = np.asarray(bg) / 255.\n",
        "        X[i] = cat\n",
        "\n",
        "        Y[i,0] = x1/128.\n",
        "        Y[i,1] = y1/128.\n",
        "        Y[i,2] = cat_x / 128.\n",
        "      yield X, Y\n",
        "\n",
        "# sanity check - plot the images\n",
        "x,y = next(natural_cat_gen())\n",
        "plt.imshow(x[0])"
      ],
      "execution_count": null,
      "outputs": []
    },
    {
      "cell_type": "code",
      "metadata": {
        "id": "7o2nFSM_ThxS"
      },
      "source": [
        "# define a mode\n",
        "# transfer learning - load pre-trained vgg and replace its head\n",
        "vgg = tf.keras.applications.VGG16(input_shape=[128, 128, 3], include_top=False, weights='imagenet')\n",
        "x = Flatten()(vgg.output)\n",
        "x = Dense(3, activation='sigmoid')(x)\n",
        "model3 = Model(vgg.input, x)\n",
        "model3.compile(loss='binary_crossentropy', optimizer=Adam(lr=0.001))\n",
        "# plot the model\n",
        "plot_model(model3, \"third_model.png\",show_shapes=True)\n",
        "\n",
        "# train it\n",
        "# needs steps per epoch since the generator is infinite\n",
        "model3.fit_generator(natural_cat_gen(),steps_per_epoch=EPOCH_SIZE,epochs=5)\n",
        "\n",
        "from matplotlib.patches import Rectangle\n",
        "\n",
        "# given image and a label, plots the image + rectangle\n",
        "def plot_pred(img,p):\n",
        "  fig, ax = plt.subplots(1)\n",
        "  ax.imshow(img)\n",
        "  rect = Rectangle(xy=(p[0]*128,p[1]*128),width=p[2]*128, height=p[2]*128, linewidth=1,edgecolor='r',facecolor='none')\n",
        "  ax.add_patch(rect)\n",
        "  plt.show()\n",
        "\n",
        "\n",
        "# generate new image\n",
        "x, _ = next(natural_cat_gen())\n",
        "# predict\n",
        "pred = model3.predict(x)\n",
        "# examine 1 image\n",
        "im = x[0]\n",
        "p = pred[0]\n",
        "plot_pred(im,p)"
      ],
      "execution_count": null,
      "outputs": []
    }
  ]
}