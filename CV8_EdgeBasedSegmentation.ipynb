{
  "nbformat": 4,
  "nbformat_minor": 0,
  "metadata": {
    "colab": {
      "name": "CV8 EdgeBasedSegmentation.ipynb",
      "provenance": [],
      "private_outputs": true,
      "authorship_tag": "ABX9TyPK4pjKz3RGdfLRHoHGWfod",
      "include_colab_link": true
    },
    "kernelspec": {
      "name": "python3",
      "display_name": "Python 3"
    },
    "accelerator": "GPU"
  },
  "cells": [
    {
      "cell_type": "markdown",
      "metadata": {
        "id": "view-in-github",
        "colab_type": "text"
      },
      "source": [
        "<a href=\"https://colab.research.google.com/github/cagBRT/computer-vision/blob/master/CV8_EdgeBasedSegmentation.ipynb\" target=\"_parent\"><img src=\"https://colab.research.google.com/assets/colab-badge.svg\" alt=\"Open In Colab\"/></a>"
      ]
    },
    {
      "cell_type": "markdown",
      "metadata": {
        "id": "0fARAvtq3R7A"
      },
      "source": [
        "https://scikit-image.org/docs/stable/auto_examples/applications/plot_coins_segmentation.html#sphx-glr-auto-examples-applications-plot-coins-segmentation-py\n"
      ]
    },
    {
      "cell_type": "code",
      "metadata": {
        "id": "3AMCF6SecLrE"
      },
      "source": [
        "import cv2\n",
        "from google.colab.patches import cv2_imshow"
      ],
      "execution_count": null,
      "outputs": []
    },
    {
      "cell_type": "code",
      "metadata": {
        "id": "CLYLvmdfbntZ"
      },
      "source": [
        "!git clone -l -s https://github.com/cagBRT/computer-vision.git cloned-repo\n",
        "%cd cloned-repo\n",
        "!ls"
      ],
      "execution_count": null,
      "outputs": []
    },
    {
      "cell_type": "markdown",
      "metadata": {
        "id": "RWjqvvV3O4G1"
      },
      "source": [
        "What divides two objects in an image? There is always an edge between two adjacent regions with different grayscale values (pixel values). The edges can be considered as the discontinuous local features of an image.<br>\n",
        "\n",
        "We can make use of this discontinuity to detect edges and hence define a boundary of the object. This helps us in detecting the shapes of multiple objects present in a given image."
      ]
    },
    {
      "cell_type": "markdown",
      "metadata": {
        "id": "-tjFUPRga-bu"
      },
      "source": [
        "Using convolution we can detect the edges of objects. "
      ]
    },
    {
      "cell_type": "code",
      "metadata": {
        "id": "cqbtoP6teadL"
      },
      "source": [
        "image = cv2.imread(\"images/convolution.png\")\n",
        "cv2_imshow(image)"
      ],
      "execution_count": null,
      "outputs": []
    },
    {
      "cell_type": "code",
      "metadata": {
        "id": "_Zdw2P86a54A"
      },
      "source": [
        "image = cv2.imread(\"images/sobelFilters.png\")\n",
        "cv2_imshow(image)"
      ],
      "execution_count": null,
      "outputs": []
    },
    {
      "cell_type": "code",
      "metadata": {
        "id": "sWBhJpy30q6N"
      },
      "source": [
        "import numpy as np\n",
        "import matplotlib.pyplot as plt\n",
        "\n",
        "from skimage import data\n",
        "from skimage.exposure import histogram\n",
        "\n",
        "coins = data.coins()\n",
        "hist, hist_centers = histogram(coins)\n",
        "\n",
        "fig, axes = plt.subplots(1, 2, figsize=(8, 3))\n",
        "axes[0].imshow(coins, cmap=plt.cm.gray)\n",
        "axes[0].axis('off')\n",
        "axes[1].plot(hist_centers, hist, lw=2)\n",
        "axes[1].set_title('histogram of gray values')"
      ],
      "execution_count": null,
      "outputs": []
    },
    {
      "cell_type": "code",
      "metadata": {
        "id": "bp8c1jft229s"
      },
      "source": [
        "fig, axes = plt.subplots(1, 2, figsize=(8, 3), sharey=True)\n",
        "\n",
        "axes[0].imshow(coins > 100, cmap=plt.cm.gray)\n",
        "axes[0].set_title('coins > 100')\n",
        "\n",
        "axes[1].imshow(coins > 150, cmap=plt.cm.gray)\n",
        "axes[1].set_title('coins > 150')\n",
        "\n",
        "for a in axes:\n",
        "    a.axis('off')\n",
        "\n",
        "plt.tight_layout()\n"
      ],
      "execution_count": null,
      "outputs": []
    },
    {
      "cell_type": "code",
      "metadata": {
        "id": "G9aaRNr525tp"
      },
      "source": [
        "from skimage.feature import canny\n",
        "\n",
        "edges = canny(coins)\n",
        "\n",
        "fig, ax = plt.subplots(figsize=(4, 3))\n",
        "ax.imshow(edges, cmap=plt.cm.gray)\n",
        "ax.set_title('Canny detector')\n",
        "ax.axis('off')\n"
      ],
      "execution_count": null,
      "outputs": []
    },
    {
      "cell_type": "code",
      "metadata": {
        "id": "6WklU7Ua29zA"
      },
      "source": [
        "from scipy import ndimage as ndi\n",
        "\n",
        "fill_coins = ndi.binary_fill_holes(edges)\n",
        "\n",
        "fig, ax = plt.subplots(figsize=(4, 3))\n",
        "ax.imshow(fill_coins, cmap=plt.cm.gray)\n",
        "ax.set_title('filling the holes')\n",
        "ax.axis('off')\n"
      ],
      "execution_count": null,
      "outputs": []
    },
    {
      "cell_type": "code",
      "metadata": {
        "id": "LREcnnIT3Abo"
      },
      "source": [
        "from skimage import morphology\n",
        "\n",
        "coins_cleaned = morphology.remove_small_objects(fill_coins, 21)\n",
        "\n",
        "fig, ax = plt.subplots(figsize=(4, 3))\n",
        "ax.imshow(coins_cleaned, cmap=plt.cm.gray)\n",
        "ax.set_title('removing small objects')\n",
        "ax.axis('off')\n"
      ],
      "execution_count": null,
      "outputs": []
    },
    {
      "cell_type": "code",
      "metadata": {
        "id": "IBu8bt3V3DHh"
      },
      "source": [
        "from skimage.filters import sobel\n",
        "\n",
        "elevation_map = sobel(coins)\n",
        "\n",
        "fig, ax = plt.subplots(figsize=(4, 3))\n",
        "ax.imshow(elevation_map, cmap=plt.cm.gray)\n",
        "ax.set_title('elevation map')\n",
        "ax.axis('off')"
      ],
      "execution_count": null,
      "outputs": []
    },
    {
      "cell_type": "code",
      "metadata": {
        "id": "3WkbokoT3FnJ"
      },
      "source": [
        "markers = np.zeros_like(coins)\n",
        "markers[coins < 30] = 1\n",
        "markers[coins > 150] = 2\n",
        "\n",
        "fig, ax = plt.subplots(figsize=(4, 3))\n",
        "ax.imshow(markers, cmap=plt.cm.nipy_spectral)\n",
        "ax.set_title('markers')\n",
        "ax.axis('off')"
      ],
      "execution_count": null,
      "outputs": []
    },
    {
      "cell_type": "code",
      "metadata": {
        "id": "wPquM8cX3IKY"
      },
      "source": [
        "from skimage import segmentation\n",
        "\n",
        "segmentation_coins = segmentation.watershed(elevation_map, markers)\n",
        "\n",
        "fig, ax = plt.subplots(figsize=(4, 3))\n",
        "ax.imshow(segmentation_coins, cmap=plt.cm.gray)\n",
        "ax.set_title('segmentation')\n",
        "ax.axis('off')"
      ],
      "execution_count": null,
      "outputs": []
    },
    {
      "cell_type": "code",
      "metadata": {
        "id": "Q988LPjy3IOg"
      },
      "source": [
        "from skimage.color import label2rgb\n",
        "\n",
        "segmentation_coins = ndi.binary_fill_holes(segmentation_coins - 1)\n",
        "labeled_coins, _ = ndi.label(segmentation_coins)\n",
        "image_label_overlay = label2rgb(labeled_coins, image=coins, bg_label=0)\n",
        "\n",
        "fig, axes = plt.subplots(1, 2, figsize=(8, 3), sharey=True)\n",
        "axes[0].imshow(coins, cmap=plt.cm.gray)\n",
        "axes[0].contour(segmentation_coins, [0.5], linewidths=1.2, colors='y')\n",
        "axes[1].imshow(image_label_overlay)\n",
        "\n",
        "for a in axes:\n",
        "    a.axis('off')\n",
        "\n",
        "plt.tight_layout()\n",
        "\n",
        "plt.show()"
      ],
      "execution_count": null,
      "outputs": []
    }
  ]
}