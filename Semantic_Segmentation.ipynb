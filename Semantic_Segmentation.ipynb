{
  "nbformat": 4,
  "nbformat_minor": 0,
  "metadata": {
    "colab": {
      "name": "Semantic Segmentation.ipynb",
      "provenance": [],
      "private_outputs": true,
      "authorship_tag": "ABX9TyOPXf0aDVyW4FRHf3cIyx5C",
      "include_colab_link": true
    },
    "kernelspec": {
      "name": "python3",
      "display_name": "Python 3"
    },
    "accelerator": "GPU"
  },
  "cells": [
    {
      "cell_type": "markdown",
      "metadata": {
        "id": "view-in-github",
        "colab_type": "text"
      },
      "source": [
        "<a href=\"https://colab.research.google.com/github/cagBRT/computer-vision/blob/master/Semantic_Segmentation.ipynb\" target=\"_parent\"><img src=\"https://colab.research.google.com/assets/colab-badge.svg\" alt=\"Open In Colab\"/></a>"
      ]
    },
    {
      "cell_type": "code",
      "metadata": {
        "id": "FFwe3m0Lo-kb"
      },
      "source": [
        "# import the necessary packages\n",
        "import numpy as np\n",
        "import time\n",
        "import cv2\n",
        "import os\n",
        "import cv2\n",
        "import matplotlib.pyplot as plt\n",
        "from google.colab.patches import cv2_imshow"
      ],
      "execution_count": null,
      "outputs": []
    },
    {
      "cell_type": "code",
      "metadata": {
        "id": "YTg_7K_5pLZK"
      },
      "source": [
        "image = cv2.imread(\"/content/cloned-repo/datasetSeg/images_prepped_test/0016E5_07961.png\")\n",
        "cv2_imshow(image)"
      ],
      "execution_count": null,
      "outputs": []
    },
    {
      "cell_type": "markdown",
      "metadata": {
        "id": "TwoaXwhpncsZ"
      },
      "source": [
        "https://github.com/divamgupta/image-segmentation-keras\n"
      ]
    },
    {
      "cell_type": "code",
      "metadata": {
        "id": "3zhLcYm0f6Pi"
      },
      "source": [
        "!git clone -l -s https://github.com/cagBRT/computer-vision.git cloned-repo\n",
        "%cd cloned-repo\n",
        "!ls"
      ],
      "execution_count": null,
      "outputs": []
    },
    {
      "cell_type": "code",
      "metadata": {
        "id": "xWhu7DDqQfdP"
      },
      "source": [
        "!apt-get install -y libsm6 libxext6 libxrender-dev\n",
        "!pip install opencv-python"
      ],
      "execution_count": null,
      "outputs": []
    },
    {
      "cell_type": "code",
      "metadata": {
        "id": "xBv9Jvr9QsRw"
      },
      "source": [
        "!pip install keras-segmentation"
      ],
      "execution_count": null,
      "outputs": []
    },
    {
      "cell_type": "code",
      "metadata": {
        "id": "dtaf32RdkoPY"
      },
      "source": [
        "import cv2\n",
        "from google.colab.patches import cv2_imshow"
      ],
      "execution_count": null,
      "outputs": []
    },
    {
      "cell_type": "code",
      "metadata": {
        "id": "_Q3VsHadQyqV"
      },
      "source": [
        "from keras_segmentation.pretrained import pspnet_50_ADE_20K , pspnet_101_cityscapes, pspnet_101_voc12\n",
        "\n",
        "model = pspnet_50_ADE_20K() # load the pretrained model trained on ADE20k dataset\n",
        "\n",
        "model = pspnet_101_cityscapes() # load the pretrained model trained on Cityscapes dataset\n",
        "\n",
        "model = pspnet_101_voc12() # load the pretrained model trained on Pascal VOC 2012 dataset\n",
        "\n",
        "# load any of the 3 pretrained models\n",
        "\n",
        "out = model.predict_segmentation(\n",
        "    inp=\"/content/cloned-repo/datasetSeg/images_prepped_test/0016E5_07965.png\",\n",
        "    out_fname=\"out.png\"\n",
        ")"
      ],
      "execution_count": null,
      "outputs": []
    },
    {
      "cell_type": "code",
      "metadata": {
        "id": "SbkWwuV2nNwY"
      },
      "source": [
        "import numpy as np\n",
        "\n",
        "ann_img = np.zeros((30,30,3)).astype('uint8')\n",
        "ann_img[ 3 , 4 ] = 1 # this would set the label of pixel 3,4 as 1\n",
        "\n",
        "cv2.imwrite( \"ann_1.png\" ,ann_img )"
      ],
      "execution_count": null,
      "outputs": []
    },
    {
      "cell_type": "code",
      "metadata": {
        "id": "qLn1s-3chDNn"
      },
      "source": [
        "\n",
        "plt.imshow(out)\n",
        "\n",
        "# evaluating the model \n",
        "print(model.evaluate_segmentation( inp_images_dir=\"/content/cloned-repo/datasetSeg/images_prepped_test/\"  , annotations_dir=\"/content/cloned-repo/datasetSeg/annotations_prepped_test/\" ) )"
      ],
      "execution_count": null,
      "outputs": []
    },
    {
      "cell_type": "code",
      "metadata": {
        "id": "rh1RcLgkplNH"
      },
      "source": [
        "cv2_imshow(image)"
      ],
      "execution_count": null,
      "outputs": []
    }
  ]
}