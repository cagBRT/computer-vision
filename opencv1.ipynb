{
  "nbformat": 4,
  "nbformat_minor": 0,
  "metadata": {
    "colab": {
      "name": "opencv1.ipynb",
      "provenance": [],
      "collapsed_sections": [],
      "include_colab_link": true
    },
    "kernelspec": {
      "name": "python3",
      "display_name": "Python 3"
    }
  },
  "cells": [
    {
      "cell_type": "markdown",
      "metadata": {
        "id": "view-in-github",
        "colab_type": "text"
      },
      "source": [
        "<a href=\"https://colab.research.google.com/github/cagBRT/computer-vision/blob/master/opencv1.ipynb\" target=\"_parent\"><img src=\"https://colab.research.google.com/assets/colab-badge.svg\" alt=\"Open In Colab\"/></a>"
      ]
    },
    {
      "cell_type": "code",
      "metadata": {
        "id": "f2aQyqvA4DZc",
        "colab_type": "code",
        "colab": {}
      },
      "source": [
        "# Clone the entire repo.\n",
        "!git clone -l -s  https://github.com/cagBRT/computer-vision.git cloned-repo\n",
        "%cd cloned-repo\n",
        "!ls"
      ],
      "execution_count": null,
      "outputs": []
    },
    {
      "cell_type": "markdown",
      "metadata": {
        "id": "c9BtYgMYnzlo",
        "colab_type": "text"
      },
      "source": [
        "OpenCV has its channels as:<br>\n",
        "BGR --> blue green red <br>\n",
        "As opposed to <br>\n",
        "RGB --> reg green blue"
      ]
    },
    {
      "cell_type": "code",
      "metadata": {
        "id": "E5aGSMS_fDMp",
        "colab_type": "code",
        "colab": {}
      },
      "source": [
        "%matplotlib inline\n",
        "from matplotlib import pyplot as plt\n",
        "import cv2\n",
        "import argparse\n",
        "import numpy as np\n",
        "import pandas as pd\n",
        "import sklearn\n",
        "from skimage import data, io, filters"
      ],
      "execution_count": null,
      "outputs": []
    },
    {
      "cell_type": "code",
      "metadata": {
        "id": "yU2nF-B9u2WA",
        "colab_type": "code",
        "colab": {}
      },
      "source": [
        "!curl -s -o logo.png https://colab.research.google.com/img/colab_favicon_256px.png\n",
        "import cv2\n",
        "from google.colab.patches import cv2_imshow"
      ],
      "execution_count": null,
      "outputs": []
    },
    {
      "cell_type": "code",
      "metadata": {
        "id": "sqVARQKWgPwh",
        "colab_type": "code",
        "colab": {}
      },
      "source": [
        "!pip install mahotas\n",
        "import mahotas\n",
        "from __future__ import print_function"
      ],
      "execution_count": null,
      "outputs": []
    },
    {
      "cell_type": "markdown",
      "metadata": {
        "id": "M8GiEP0GNelJ",
        "colab_type": "text"
      },
      "source": [
        "# **Images**"
      ]
    },
    {
      "cell_type": "markdown",
      "metadata": {
        "id": "JQzOWd5lEM0Z",
        "colab_type": "text"
      },
      "source": [
        "**Show an image using PIL**"
      ]
    },
    {
      "cell_type": "code",
      "metadata": {
        "id": "6sQh4-k5Bc8m",
        "colab_type": "code",
        "colab": {}
      },
      "source": [
        "import cv2\n",
        "import numpy as np\n",
        "from PIL import Image\n",
        "\n",
        "image = Image.open('images/dogs.jpg')\n",
        "plt.imshow(image)\n",
        "plt.show()"
      ],
      "execution_count": null,
      "outputs": []
    },
    {
      "cell_type": "markdown",
      "metadata": {
        "id": "ZhGm8yqIN2fs",
        "colab_type": "text"
      },
      "source": [
        "**ASSIGNMENT 1**<br>\n",
        "Display the image images/cat1.jpeg"
      ]
    },
    {
      "cell_type": "code",
      "metadata": {
        "id": "7lPwoaazN81h",
        "colab_type": "code",
        "colab": {}
      },
      "source": [
        "#Assignment 1\n"
      ],
      "execution_count": null,
      "outputs": []
    },
    {
      "cell_type": "markdown",
      "metadata": {
        "id": "9JdDub_wERQr",
        "colab_type": "text"
      },
      "source": [
        "**Show the image using openCV**"
      ]
    },
    {
      "cell_type": "code",
      "metadata": {
        "id": "YUDRtgmMihuc",
        "colab_type": "code",
        "colab": {}
      },
      "source": [
        "image= cv2.imread(\"images/dogs.jpg\")\n",
        "plt.imshow(image)\n",
        "plt.show()"
      ],
      "execution_count": null,
      "outputs": []
    },
    {
      "cell_type": "markdown",
      "metadata": {
        "id": "y3W9qAwZOPep",
        "colab_type": "text"
      },
      "source": [
        "**Assignment 2**<br>\n",
        "Display the image cat1.jpeg using openCV"
      ]
    },
    {
      "cell_type": "code",
      "metadata": {
        "id": "nmqLFGzjOV7O",
        "colab_type": "code",
        "colab": {}
      },
      "source": [
        "#Assignment 2\n"
      ],
      "execution_count": null,
      "outputs": []
    },
    {
      "cell_type": "markdown",
      "metadata": {
        "id": "ty4lrl1WKJWt",
        "colab_type": "text"
      },
      "source": [
        "**Convert the image to show its true colors using openCV**"
      ]
    },
    {
      "cell_type": "code",
      "metadata": {
        "id": "FSwGWMhvEqNb",
        "colab_type": "code",
        "colab": {}
      },
      "source": [
        "im_cv = cv2.imread('images/dogs.jpg')\n",
        "imgrgb = cv2.cvtColor(im_cv, cv2.COLOR_BGR2RGB)\n",
        "plt.imshow(imgrgb)\n",
        "plt.show()"
      ],
      "execution_count": null,
      "outputs": []
    },
    {
      "cell_type": "markdown",
      "metadata": {
        "id": "pdjXbCG8OY6D",
        "colab_type": "text"
      },
      "source": [
        "# **Assignment 3**<br>\n",
        "Convert the cat.jpg image show that is shows the correct colors using openCV"
      ]
    },
    {
      "cell_type": "code",
      "metadata": {
        "id": "17CxCT3JOooL",
        "colab_type": "code",
        "colab": {}
      },
      "source": [
        "#Assignment 3"
      ],
      "execution_count": null,
      "outputs": []
    },
    {
      "cell_type": "markdown",
      "metadata": {
        "id": "KcF6_W8bKtPX",
        "colab_type": "text"
      },
      "source": [
        "Save the file as rgb using cv2.write"
      ]
    },
    {
      "cell_type": "code",
      "metadata": {
        "id": "EUjAuokYKSuu",
        "colab_type": "code",
        "colab": {}
      },
      "source": [
        "cv2.imwrite('images/dogsRGB.jpg', imgrgb)"
      ],
      "execution_count": null,
      "outputs": []
    },
    {
      "cell_type": "markdown",
      "metadata": {
        "id": "KpwyMFzgOtJE",
        "colab_type": "text"
      },
      "source": [
        "# **Assignment 4**<br>\n",
        "Save the converted cat image that you created in Assignment 3. "
      ]
    },
    {
      "cell_type": "code",
      "metadata": {
        "id": "kPM910W6Osdp",
        "colab_type": "code",
        "colab": {}
      },
      "source": [
        "#Assignment 4\n",
        "cv2.imwrite('images/cat1rgb.jpg', imgrgb)"
      ],
      "execution_count": null,
      "outputs": []
    },
    {
      "cell_type": "markdown",
      "metadata": {
        "id": "drI7ldScLOEq",
        "colab_type": "text"
      },
      "source": [
        "# **Pixels**"
      ]
    },
    {
      "cell_type": "code",
      "metadata": {
        "id": "rpQOqI13L7q-",
        "colab_type": "code",
        "colab": {}
      },
      "source": [
        "from IPython.display import Image\n",
        "Image(\"images/pixel_coor.png\" , width=640)"
      ],
      "execution_count": null,
      "outputs": []
    },
    {
      "cell_type": "code",
      "metadata": {
        "id": "yc8ztRK2UoAN",
        "colab_type": "code",
        "colab": {}
      },
      "source": [
        "im_cv = cv2.imread('images/dogs.jpg')\n",
        "imgrgb = cv2.cvtColor(im_cv, cv2.COLOR_BGR2RGB)\n",
        "plt.imshow(imgrgb)\n",
        "plt.show()"
      ],
      "execution_count": null,
      "outputs": []
    },
    {
      "cell_type": "markdown",
      "metadata": {
        "id": "dRElNs-ILI3O",
        "colab_type": "text"
      },
      "source": [
        "What is the color at pixel (0,0)"
      ]
    },
    {
      "cell_type": "code",
      "metadata": {
        "id": "av-r_14smOq3",
        "colab_type": "code",
        "colab": {}
      },
      "source": [
        "(b, g, r) = imgrgb[0, 0]\n",
        "print(\"Pixel at (0, 0) - Red: {}, Green: {}, Blue: {}\".format(r, g, b))"
      ],
      "execution_count": null,
      "outputs": []
    },
    {
      "cell_type": "markdown",
      "metadata": {
        "id": "aZZRm2zGMYzD",
        "colab_type": "text"
      },
      "source": [
        "Define a blue square in the upper left corner, offset by 5 pixels in the x and y directions"
      ]
    },
    {
      "cell_type": "code",
      "metadata": {
        "id": "6YvCw6axmTJy",
        "colab_type": "code",
        "colab": {}
      },
      "source": [
        "imgrgb[5:200, 5:200] = (0, 0, 255)"
      ],
      "execution_count": null,
      "outputs": []
    },
    {
      "cell_type": "markdown",
      "metadata": {
        "id": "H_GQd6HaNCAQ",
        "colab_type": "text"
      },
      "source": [
        "What is the pixel value at pixel coordinates (6,6)?"
      ]
    },
    {
      "cell_type": "code",
      "metadata": {
        "id": "tGn7fFAOmXHG",
        "colab_type": "code",
        "colab": {}
      },
      "source": [
        "(b, g, r) = imgrgb[6, 6]\n",
        "b"
      ],
      "execution_count": null,
      "outputs": []
    },
    {
      "cell_type": "code",
      "metadata": {
        "id": "pdTlgTZhmety",
        "colab_type": "code",
        "colab": {}
      },
      "source": [
        "plt.imshow(imgrgb)\n",
        "plt.show()"
      ],
      "execution_count": null,
      "outputs": []
    },
    {
      "cell_type": "markdown",
      "metadata": {
        "id": "AmaDvwgQUzoH",
        "colab_type": "text"
      },
      "source": [
        "# **Assignment 5**<br>\n",
        "Use the color corrected cat1.jpeg image and add a red square to the upper right side of it. "
      ]
    },
    {
      "cell_type": "code",
      "metadata": {
        "id": "ziJXZu_mVJ1y",
        "colab_type": "code",
        "colab": {}
      },
      "source": [
        "#Assignment 5"
      ],
      "execution_count": null,
      "outputs": []
    },
    {
      "cell_type": "markdown",
      "metadata": {
        "id": "4c54xMdLYxJB",
        "colab_type": "text"
      },
      "source": [
        "**Add a rectangle to the image**"
      ]
    },
    {
      "cell_type": "code",
      "metadata": {
        "id": "FND5PskkuNRo",
        "colab_type": "code",
        "colab": {}
      },
      "source": [
        "img = cv2.imread('logo.png', cv2.IMREAD_UNCHANGED)\n",
        "cv2_imshow(img)"
      ],
      "execution_count": null,
      "outputs": []
    },
    {
      "cell_type": "markdown",
      "metadata": {
        "id": "1wRqI49OZWpN",
        "colab_type": "text"
      },
      "source": [
        "Drawing a rectangle:<br>\n",
        "**Syntax:** cv2.rectangle(image, start_point, end_point, color, thickness)"
      ]
    },
    {
      "cell_type": "code",
      "metadata": {
        "id": "X-wclFNIA7EQ",
        "colab_type": "code",
        "colab": {}
      },
      "source": [
        "cv2.rectangle(img, (128, 128), (163, 172), (0, 205, 120, 105), 6)\n",
        "cv2_imshow(img)"
      ],
      "execution_count": null,
      "outputs": []
    },
    {
      "cell_type": "markdown",
      "metadata": {
        "id": "Z9acl9lHY-il",
        "colab_type": "text"
      },
      "source": [
        "# **Assignment 6**<br>\n",
        "Add a red rectangle to the CO logo, anywhere you want. \n"
      ]
    },
    {
      "cell_type": "code",
      "metadata": {
        "id": "aYxQSNesZxe5",
        "colab_type": "code",
        "colab": {}
      },
      "source": [
        "#Assignment 6\n",
        "cv2.rectangle(img, (20, 20), (128,128), (0, 0, 200, 205), 10)\n",
        "cv2_imshow(img)"
      ],
      "execution_count": null,
      "outputs": []
    },
    {
      "cell_type": "markdown",
      "metadata": {
        "id": "lxXUbXgOZ16X",
        "colab_type": "text"
      },
      "source": [
        "# **Canvas**\n",
        "Start with a blank canvas and draw on it. "
      ]
    },
    {
      "cell_type": "code",
      "metadata": {
        "id": "zjuq8WEavfn6",
        "colab_type": "code",
        "colab": {}
      },
      "source": [
        "canvas = np.zeros((300, 500, 3), dtype = \"uint8\")\n",
        "blue = (255, 0, 0)\n",
        "cv2.rectangle(canvas, (50, 200), (400, 225), blue, 5)\n",
        "cv2.rectangle(canvas, (200, 50), (225, 125), blue, -1)\n",
        "cv2_imshow( canvas)"
      ],
      "execution_count": null,
      "outputs": []
    },
    {
      "cell_type": "code",
      "metadata": {
        "id": "zjQv3NVaw5sA",
        "colab_type": "code",
        "colab": {}
      },
      "source": [
        "canvas = np.zeros((300, 300, 3), dtype = \"uint8\")\n",
        "(centerX, centerY) = (canvas.shape[1] // 2, canvas.shape[0] // 2)\n",
        "white = (255, 255, 255)\n",
        "for r in range(0, 175, 25):\n",
        "  cv2.circle(canvas, (centerX, centerY), r, white)\n",
        "cv2_imshow( canvas)"
      ],
      "execution_count": null,
      "outputs": []
    },
    {
      "cell_type": "code",
      "metadata": {
        "id": "HNFbq_PZxe-s",
        "colab_type": "code",
        "colab": {}
      },
      "source": [
        "#canvas = np.ones((300, 300, 3), dtype = \"uint8\")\n",
        "for i in range(0, 25):\n",
        " radius = np.random.randint(5, high = 200)\n",
        "color = np.random.randint(0, high = 256, size = (3,)).tolist()\n",
        "pt = np.random.randint(0, high = 300, size = (2,))\n",
        "cv2.circle(canvas, tuple(pt), radius, color, -1) \n",
        "cv2_imshow( canvas)\n",
        " "
      ],
      "execution_count": null,
      "outputs": []
    },
    {
      "cell_type": "markdown",
      "metadata": {
        "id": "65Z2ItbiatDS",
        "colab_type": "text"
      },
      "source": [
        "# **Assignment 7**<br>\n",
        "Start with a black canvas, add a rectangle, a circle, and an ellipse."
      ]
    },
    {
      "cell_type": "code",
      "metadata": {
        "id": "CC9YdVu6aOcU",
        "colab_type": "code",
        "colab": {}
      },
      "source": [
        "#Assignment 7"
      ],
      "execution_count": null,
      "outputs": []
    },
    {
      "cell_type": "markdown",
      "metadata": {
        "id": "odvehEHVbmda",
        "colab_type": "text"
      },
      "source": [
        "# **Rotate Images**<br>"
      ]
    },
    {
      "cell_type": "code",
      "metadata": {
        "id": "5sl4iEwGyJUd",
        "colab_type": "code",
        "colab": {}
      },
      "source": [
        "import numpy as np\n",
        "import argparse\n",
        "import imutils\n",
        "import cv2\n",
        "\n",
        "image = cv2.imread(\"images/dogs.jpg\")\n",
        "cv2_imshow(image)\n",
        "\n",
        "(h, w) = image.shape[:2]\n",
        "center=(w//2,h//2)"
      ],
      "execution_count": null,
      "outputs": []
    },
    {
      "cell_type": "code",
      "metadata": {
        "id": "ZzP5lRRkeJEe",
        "colab_type": "code",
        "colab": {}
      },
      "source": [
        "M = cv2.getRotationMatrix2D(center, 45, 1.0)\n",
        "rotated = cv2.warpAffine(image, M, (w, h))\n",
        "cv2_imshow( rotated)"
      ],
      "execution_count": null,
      "outputs": []
    },
    {
      "cell_type": "code",
      "metadata": {
        "id": "z2oOmBzHeFQq",
        "colab_type": "code",
        "colab": {}
      },
      "source": [
        "M = cv2.getRotationMatrix2D(center, -90, 1.0)\n",
        "\n",
        "rotated = cv2.warpAffine(image, M, (w, h))\n",
        "cv2_imshow( rotated)"
      ],
      "execution_count": null,
      "outputs": []
    },
    {
      "cell_type": "markdown",
      "metadata": {
        "id": "T69VrDpvbsfY",
        "colab_type": "text"
      },
      "source": [
        "# **Assignment 8**\n",
        "Rotate the \"images/cat1.jpeg\" image"
      ]
    },
    {
      "cell_type": "code",
      "metadata": {
        "id": "-1Y598Efb1yD",
        "colab_type": "code",
        "colab": {}
      },
      "source": [
        "#Assignment 8\n"
      ],
      "execution_count": null,
      "outputs": []
    },
    {
      "cell_type": "markdown",
      "metadata": {
        "id": "q1xvlUJGcDcz",
        "colab_type": "text"
      },
      "source": [
        "# **Grayscale**"
      ]
    },
    {
      "cell_type": "code",
      "metadata": {
        "id": "N0V5w05w1bm9",
        "colab_type": "code",
        "colab": {}
      },
      "source": [
        "%matplotlib inline\n",
        "from matplotlib import pyplot as plt\n",
        "import cv2\n",
        "\n",
        "# Load in Grayscale\n",
        "img = cv2.imread('images/dogs.jpg', 0)\n",
        "\n",
        "# The underlying representation is a numpy array!\n",
        "print(type(img))\n",
        "cv2_imshow(img)\n"
      ],
      "execution_count": null,
      "outputs": []
    },
    {
      "cell_type": "markdown",
      "metadata": {
        "id": "2zTKwXffdb8P",
        "colab_type": "text"
      },
      "source": [
        "# **Assignment 9**\n",
        "Display the images/cat1.jpeg image as a grayscale"
      ]
    },
    {
      "cell_type": "code",
      "metadata": {
        "id": "uJ8LAO09dmPp",
        "colab_type": "code",
        "colab": {}
      },
      "source": [
        "#Assignment 9"
      ],
      "execution_count": null,
      "outputs": []
    },
    {
      "cell_type": "markdown",
      "metadata": {
        "id": "p55o-aUfcwIf",
        "colab_type": "text"
      },
      "source": [
        "# **Images as Numpy Arrays**"
      ]
    },
    {
      "cell_type": "code",
      "metadata": {
        "id": "Se2Q61sN8DdP",
        "colab_type": "code",
        "colab": {}
      },
      "source": [
        "img = cv2.imread('images/dogs.jpg')\n",
        "\n",
        "plt.imshow(img)\n",
        "plt.show()"
      ],
      "execution_count": null,
      "outputs": []
    },
    {
      "cell_type": "code",
      "metadata": {
        "id": "Eybagu8N1nB4",
        "colab_type": "code",
        "colab": {}
      },
      "source": [
        "imgrgb = cv2.cvtColor(img, cv2.COLOR_BGR2RGB)\n",
        "plt.imshow(imgrgb)\n",
        "plt.show()\n",
        "\n",
        "# Or, use numpy functions / indexing!\n",
        "imgrgb = img[:,:,::-1]\n",
        "plt.imshow(imgrgb)\n",
        "plt.show()"
      ],
      "execution_count": null,
      "outputs": []
    },
    {
      "cell_type": "markdown",
      "metadata": {
        "id": "Tt-QnIr5dF8E",
        "colab_type": "text"
      },
      "source": [
        "# **Resizing Images**\n",
        "cv2.resize(src, dsize[, dst[, fx[, fy[, interpolation]]]])<br>\n",
        "\n",
        "\n",
        "https://www.tutorialkart.com/opencv/python/opencv-python-resize-image/"
      ]
    },
    {
      "cell_type": "code",
      "metadata": {
        "id": "KYb1_G3W1zOM",
        "colab_type": "code",
        "colab": {}
      },
      "source": [
        "# Expanding\n",
        "res = cv2.resize(imgrgb, None,fx=6, fy=2, interpolation = cv2.INTER_CUBIC)\n",
        "plt.imshow(res)\n",
        "plt.show()"
      ],
      "execution_count": null,
      "outputs": []
    },
    {
      "cell_type": "markdown",
      "metadata": {
        "id": "L7IkgV3pdw-f",
        "colab_type": "text"
      },
      "source": [
        "# **Assignment 10**\n",
        "Vertically stretch the images/cat1.jpeg image\n",
        "\n"
      ]
    },
    {
      "cell_type": "code",
      "metadata": {
        "id": "7aYwTQnUdxKu",
        "colab_type": "code",
        "colab": {}
      },
      "source": [
        "#Assignment 10"
      ],
      "execution_count": null,
      "outputs": []
    },
    {
      "cell_type": "markdown",
      "metadata": {
        "id": "j_MB9wt4e0po",
        "colab_type": "text"
      },
      "source": [
        "**Shrinking an image**"
      ]
    },
    {
      "cell_type": "code",
      "metadata": {
        "id": "8oP2nMvf8P-6",
        "colab_type": "code",
        "colab": {}
      },
      "source": [
        "# Shrinking\n",
        "res = cv2.resize(imgrgb, None,fx=.1, fy=.1, interpolation = cv2.INTER_CUBIC)\n",
        "plt.imshow(res)\n",
        "plt.show()"
      ],
      "execution_count": null,
      "outputs": []
    },
    {
      "cell_type": "markdown",
      "metadata": {
        "id": "T9bFjtKCe_PW",
        "colab_type": "text"
      },
      "source": [
        "# **Assignment 11**\n",
        "Shrink the images/cat1.jpeg image"
      ]
    },
    {
      "cell_type": "code",
      "metadata": {
        "id": "emt5wNrWe_o2",
        "colab_type": "code",
        "colab": {}
      },
      "source": [
        "#Assignment 11"
      ],
      "execution_count": null,
      "outputs": []
    },
    {
      "cell_type": "markdown",
      "metadata": {
        "id": "Twj9Rw-YfmSF",
        "colab_type": "text"
      },
      "source": [
        "# **Thresholding**<br>\n",
        "For every pixel, the same threshold value is applied. If the pixel value is smaller than the threshold, it is set to 0, otherwise it is set to a maximum value.<br>\n",
        "The first argument is the source image, which should be a grayscale image.<br>\n",
        "The second argument is the threshold value which is used to classify the pixel values.<br>\n",
        "The third argument is the maximum value which is assigned to pixel values exceeding the threshold."
      ]
    },
    {
      "cell_type": "code",
      "metadata": {
        "id": "5FGpv20f2CJ-",
        "colab_type": "code",
        "colab": {}
      },
      "source": [
        "img = imgrgb\n",
        "\n",
        "# Thresholding \n",
        "ret,thresh1 = cv2.threshold(img,127,255,cv2.THRESH_BINARY)\n",
        "ret,thresh2 = cv2.threshold(img,127,255,cv2.THRESH_BINARY_INV)\n",
        "ret,thresh3 = cv2.threshold(img,127,255,cv2.THRESH_TRUNC)\n",
        "ret,thresh4 = cv2.threshold(img,127,255,cv2.THRESH_TOZERO)\n",
        "ret,thresh5 = cv2.threshold(img,127,255,cv2.THRESH_TOZERO_INV)\n",
        "\n",
        "titles = ['Original Image','BINARY','BINARY_INV','TRUNC','TOZERO','TOZERO_INV']\n",
        "images = [img, thresh1, thresh2, thresh3, thresh4, thresh5]\n",
        "\n",
        "for i in range(6):\n",
        "    plt.subplot(2,3,i+1),plt.imshow(images[i],'gray')\n",
        "    plt.title(titles[i])\n",
        "    plt.xticks([]),plt.yticks([])\n",
        "\n",
        "plt.show()"
      ],
      "execution_count": null,
      "outputs": []
    },
    {
      "cell_type": "code",
      "metadata": {
        "id": "JolgVgyFfSG3",
        "colab_type": "code",
        "colab": {}
      },
      "source": [
        "# Blurring - smoothes the image out\n",
        "blur = cv2.blur(img,(10, 10))\n",
        "gblur = cv2.GaussianBlur(imgrgb,(5,5),0)\n",
        "\n",
        "plt.imshow(img), plt.title('Original')\n",
        "plt.show()\n",
        "plt.imshow(blur), plt.title('Blurred')\n",
        "plt.show()\n",
        "plt.imshow(gblur),plt.title('Gaussian Blur')\n",
        "plt.show()"
      ],
      "execution_count": null,
      "outputs": []
    },
    {
      "cell_type": "markdown",
      "metadata": {
        "id": "3JEUOD58gM02",
        "colab_type": "text"
      },
      "source": [
        "# **Assignment 12**\n",
        "Apply filters to the images/cat1.jpeg images<br>\n",
        "Check out this link:<br>\n",
        "\n",
        "https://docs.opencv.org/master/d4/d86/group__imgproc__filter.html\n"
      ]
    },
    {
      "cell_type": "code",
      "metadata": {
        "id": "8NBPYd3UgNFi",
        "colab_type": "code",
        "colab": {}
      },
      "source": [
        "#Assignment 12\n"
      ],
      "execution_count": null,
      "outputs": []
    },
    {
      "cell_type": "markdown",
      "metadata": {
        "id": "HSzaHfcfiJFk",
        "colab_type": "text"
      },
      "source": [
        "# **Image Math**\n",
        "Adding and subtracting pixel by pixel"
      ]
    },
    {
      "cell_type": "code",
      "metadata": {
        "id": "1PEal3XJ2p5P",
        "colab_type": "code",
        "colab": {}
      },
      "source": [
        "M = np.ones(image.shape, dtype = \"uint8\") * 100\n",
        "added = cv2.add(image, M)\n",
        "cv2_imshow( added)"
      ],
      "execution_count": null,
      "outputs": []
    },
    {
      "cell_type": "code",
      "metadata": {
        "id": "_Jd7lkWXiFQI",
        "colab_type": "code",
        "colab": {}
      },
      "source": [
        "M = np.ones(image.shape, dtype = \"uint8\") * 50\n",
        "subtracted = cv2.subtract(image, M)\n",
        "cv2_imshow( subtracted)"
      ],
      "execution_count": null,
      "outputs": []
    },
    {
      "cell_type": "markdown",
      "metadata": {
        "id": "6GR2UvLoh0LQ",
        "colab_type": "text"
      },
      "source": [
        "# **Assignment 13**\n",
        "Add or subtract pixel by pixel using the images/cat1.jpeg image"
      ]
    },
    {
      "cell_type": "code",
      "metadata": {
        "id": "DIhGfdJuieAu",
        "colab_type": "code",
        "colab": {}
      },
      "source": [
        "#Assignment 13"
      ],
      "execution_count": null,
      "outputs": []
    },
    {
      "cell_type": "markdown",
      "metadata": {
        "id": "LYGUurMaiodY",
        "colab_type": "text"
      },
      "source": [
        "# **Maskings**"
      ]
    },
    {
      "cell_type": "markdown",
      "metadata": {
        "id": "uL-PTpTFiwCa",
        "colab_type": "text"
      },
      "source": [
        "**Create masks**"
      ]
    },
    {
      "cell_type": "code",
      "metadata": {
        "id": "sKcUZNfY25nN",
        "colab_type": "code",
        "colab": {}
      },
      "source": [
        "import numpy as np\n",
        "import cv2\n",
        "\n",
        "rectangle = np.zeros((300, 300), dtype = \"uint8\")\n",
        "cv2.rectangle(rectangle, (25, 25), (275, 275), 255, -1)\n",
        "cv2_imshow( rectangle)\n",
        "\n",
        "circle = np.zeros((300, 300), dtype = \"uint8\")\n",
        "cv2.circle(circle, (150, 150), 150, 255, -1)\n",
        "cv2_imshow( circle)"
      ],
      "execution_count": null,
      "outputs": []
    },
    {
      "cell_type": "code",
      "metadata": {
        "id": "csRC8eZP3WZt",
        "colab_type": "code",
        "colab": {}
      },
      "source": [
        "bitwiseAnd = cv2.bitwise_and(rectangle, circle)\n",
        "cv2_imshow( bitwiseAnd)"
      ],
      "execution_count": null,
      "outputs": []
    },
    {
      "cell_type": "code",
      "metadata": {
        "id": "LWWYSQZYC7Wt",
        "colab_type": "code",
        "colab": {}
      },
      "source": [
        "bitwiseOr = cv2.bitwise_or(rectangle, circle)\n",
        "cv2_imshow( bitwiseOr)"
      ],
      "execution_count": null,
      "outputs": []
    },
    {
      "cell_type": "code",
      "metadata": {
        "id": "knVgxHTLDAL7",
        "colab_type": "code",
        "colab": {}
      },
      "source": [
        "bitwiseXor = cv2.bitwise_xor(rectangle, circle)\n",
        "cv2_imshow( bitwiseXor)\n"
      ],
      "execution_count": null,
      "outputs": []
    },
    {
      "cell_type": "code",
      "metadata": {
        "id": "lz-OXNDpDDIC",
        "colab_type": "code",
        "colab": {}
      },
      "source": [
        "bitwiseNot = cv2.bitwise_not(circle)\n",
        "cv2_imshow( bitwiseNot)"
      ],
      "execution_count": null,
      "outputs": []
    },
    {
      "cell_type": "markdown",
      "metadata": {
        "id": "22b1u0SPi600",
        "colab_type": "text"
      },
      "source": [
        "# **Assignment 14**\n",
        "Create a mask using an ellipse and a rectangle."
      ]
    },
    {
      "cell_type": "code",
      "metadata": {
        "id": "T1GrFcWQjKK-",
        "colab_type": "code",
        "colab": {}
      },
      "source": [
        "#Assignment 14\n"
      ],
      "execution_count": null,
      "outputs": []
    },
    {
      "cell_type": "code",
      "metadata": {
        "id": "nkKsd6ph32hD",
        "colab_type": "code",
        "colab": {}
      },
      "source": [
        "image = cv2.imread(\"images/dogs.jpg\")\n",
        "cv2_imshow( image)"
      ],
      "execution_count": null,
      "outputs": []
    },
    {
      "cell_type": "markdown",
      "metadata": {
        "id": "PID46FdLi0bL",
        "colab_type": "text"
      },
      "source": [
        "# **Use masks on images**"
      ]
    },
    {
      "cell_type": "code",
      "metadata": {
        "id": "0ldfSoYp8iS3",
        "colab_type": "code",
        "colab": {}
      },
      "source": [
        "mask = np.zeros(image.shape[:2], dtype = \"uint8\")\n",
        "(cX, cY) = (image.shape[1] // 2, image.shape[0] // 2)\n",
        "cv2.rectangle(mask, (cX - 175, cY - 175), (cX + 45 , cY + 45), 255,-1)\n",
        "cv2_imshow( mask)"
      ],
      "execution_count": null,
      "outputs": []
    },
    {
      "cell_type": "code",
      "metadata": {
        "id": "s9Ok_jNY8oCO",
        "colab_type": "code",
        "colab": {}
      },
      "source": [
        "masked = cv2.bitwise_and(image, image, mask = mask)\n",
        "cv2_imshow( masked)"
      ],
      "execution_count": null,
      "outputs": []
    },
    {
      "cell_type": "markdown",
      "metadata": {
        "id": "wPjs4vtYjPCz",
        "colab_type": "text"
      },
      "source": [
        "# **Assignment 15**\n",
        "Using the mask from the previous assignment and images/cat1.jpeg, mask part of the image. "
      ]
    },
    {
      "cell_type": "code",
      "metadata": {
        "id": "r3obggGfjdyu",
        "colab_type": "code",
        "colab": {}
      },
      "source": [
        "#Assignment 15"
      ],
      "execution_count": null,
      "outputs": []
    }
  ]
}